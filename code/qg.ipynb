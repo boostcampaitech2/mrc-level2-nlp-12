{
 "cells": [
  {
   "cell_type": "code",
   "execution_count": 1,
   "metadata": {},
   "outputs": [
    {
     "name": "stderr",
     "output_type": "stream",
     "text": [
      "[Korean Sentence Splitter]: Initializing Kss...\n"
     ]
    }
   ],
   "source": [
    "import pandas as pd\n",
    "from tqdm import tqdm\n",
    "from pororo import Pororo"
   ]
  },
  {
   "cell_type": "code",
   "execution_count": 17,
   "metadata": {},
   "outputs": [],
   "source": [
    "import os\n",
    "os.environ[\"TOKENIZERS_PARALLELISM\"] = \"false\""
   ]
  },
  {
   "cell_type": "code",
   "execution_count": 2,
   "metadata": {},
   "outputs": [
    {
     "data": {
      "text/html": [
       "<div>\n",
       "<style scoped>\n",
       "    .dataframe tbody tr th:only-of-type {\n",
       "        vertical-align: middle;\n",
       "    }\n",
       "\n",
       "    .dataframe tbody tr th {\n",
       "        vertical-align: top;\n",
       "    }\n",
       "\n",
       "    .dataframe thead th {\n",
       "        text-align: right;\n",
       "    }\n",
       "</style>\n",
       "<table border=\"1\" class=\"dataframe\">\n",
       "  <thead>\n",
       "    <tr style=\"text-align: right;\">\n",
       "      <th></th>\n",
       "      <th>text</th>\n",
       "      <th>corpus_source</th>\n",
       "      <th>url</th>\n",
       "      <th>domain</th>\n",
       "      <th>title</th>\n",
       "      <th>author</th>\n",
       "      <th>html</th>\n",
       "      <th>document_id</th>\n",
       "    </tr>\n",
       "  </thead>\n",
       "  <tbody>\n",
       "    <tr>\n",
       "      <th>0</th>\n",
       "      <td>이 문서는 나라 목록이며, 전 세계 206개 나라의 각 현황과 주권 승인 정보를 개...</td>\n",
       "      <td>위키피디아</td>\n",
       "      <td>TODO</td>\n",
       "      <td>NaN</td>\n",
       "      <td>나라 목록</td>\n",
       "      <td>NaN</td>\n",
       "      <td>NaN</td>\n",
       "      <td>0</td>\n",
       "    </tr>\n",
       "    <tr>\n",
       "      <th>1</th>\n",
       "      <td>이 목록에 실린 국가 기준은 1933년 몬테비데오 협약 1장을 참고로 하였다. 협정...</td>\n",
       "      <td>위키피디아</td>\n",
       "      <td>TODO</td>\n",
       "      <td>NaN</td>\n",
       "      <td>나라 목록</td>\n",
       "      <td>NaN</td>\n",
       "      <td>NaN</td>\n",
       "      <td>1</td>\n",
       "    </tr>\n",
       "    <tr>\n",
       "      <th>2</th>\n",
       "      <td>현 서울특별시 종로구 서린동 (구 일제 강점기 경기도 경성부 서린정) 출신이다. 친...</td>\n",
       "      <td>위키피디아</td>\n",
       "      <td>TODO</td>\n",
       "      <td>NaN</td>\n",
       "      <td>백남준</td>\n",
       "      <td>NaN</td>\n",
       "      <td>NaN</td>\n",
       "      <td>2</td>\n",
       "    </tr>\n",
       "    <tr>\n",
       "      <th>3</th>\n",
       "      <td>아오조라 문고(靑空文庫, あおぞらぶんこ|아오조라 분고)는 ‘일본어판 구텐베르크 프로...</td>\n",
       "      <td>위키피디아</td>\n",
       "      <td>TODO</td>\n",
       "      <td>NaN</td>\n",
       "      <td>아오조라 문고</td>\n",
       "      <td>NaN</td>\n",
       "      <td>NaN</td>\n",
       "      <td>3</td>\n",
       "    </tr>\n",
       "    <tr>\n",
       "      <th>4</th>\n",
       "      <td>저자 사망 이후 50년이 지나 저작권이 소멸한 메이지 시대부터 쇼와 시대 초기까지의...</td>\n",
       "      <td>위키피디아</td>\n",
       "      <td>TODO</td>\n",
       "      <td>NaN</td>\n",
       "      <td>아오조라 문고</td>\n",
       "      <td>NaN</td>\n",
       "      <td>NaN</td>\n",
       "      <td>4</td>\n",
       "    </tr>\n",
       "  </tbody>\n",
       "</table>\n",
       "</div>"
      ],
      "text/plain": [
       "                                                text corpus_source   url  \\\n",
       "0  이 문서는 나라 목록이며, 전 세계 206개 나라의 각 현황과 주권 승인 정보를 개...         위키피디아  TODO   \n",
       "1  이 목록에 실린 국가 기준은 1933년 몬테비데오 협약 1장을 참고로 하였다. 협정...         위키피디아  TODO   \n",
       "2  현 서울특별시 종로구 서린동 (구 일제 강점기 경기도 경성부 서린정) 출신이다. 친...         위키피디아  TODO   \n",
       "3  아오조라 문고(靑空文庫, あおぞらぶんこ|아오조라 분고)는 ‘일본어판 구텐베르크 프로...         위키피디아  TODO   \n",
       "4  저자 사망 이후 50년이 지나 저작권이 소멸한 메이지 시대부터 쇼와 시대 초기까지의...         위키피디아  TODO   \n",
       "\n",
       "   domain    title  author  html  document_id  \n",
       "0     NaN    나라 목록     NaN   NaN            0  \n",
       "1     NaN    나라 목록     NaN   NaN            1  \n",
       "2     NaN      백남준     NaN   NaN            2  \n",
       "3     NaN  아오조라 문고     NaN   NaN            3  \n",
       "4     NaN  아오조라 문고     NaN   NaN            4  "
      ]
     },
     "execution_count": 2,
     "metadata": {},
     "output_type": "execute_result"
    }
   ],
   "source": [
    "wiki_df = pd.read_json('/opt/ml/data/wikipedia_documents.json', orient = 'index')\n",
    "wiki_df.head()"
   ]
  },
  {
   "cell_type": "code",
   "execution_count": 8,
   "metadata": {},
   "outputs": [],
   "source": [
    "wiki_df.to_csv('wiki_df.csv', index=False)"
   ]
  },
  {
   "cell_type": "code",
   "execution_count": 18,
   "metadata": {},
   "outputs": [
    {
     "data": {
      "text/plain": [
       "('스마트폰의 데이터 통신 기능을 이용하여, 문자 과금 없이 사람들과 메시지를 주고받을 수 있는 애플리케이션 이름은?',\n",
       " ['텔레그램', '챗온', '디스코드'])"
      ]
     },
     "execution_count": 18,
     "metadata": {},
     "output_type": "execute_result"
    }
   ],
   "source": [
    "qg = Pororo(task=\"qg\", lang=\"ko\")\n",
    "qg(\n",
    "    \"카카오톡\",\n",
    "    \"카카오톡은 스마트폰의 데이터 통신 기능을 이용하여, 문자 과금 없이 사람들과 메시지를 주고받을 수 있는 애플리케이션이다. 스마트폰 대중화 이 후 기존 인스턴트 메신저 앱의 번거로운 친구 추가 절차 없이, 스마트폰 주소록의 전 화번호만으로 손쉽게 메시지를 주고받을 수 있는 것이 특징이다.\",\n",
    "    n_wrong=3\n",
    ")"
   ]
  },
  {
   "cell_type": "code",
   "execution_count": 43,
   "metadata": {},
   "outputs": [
    {
     "data": {
      "text/plain": [
       "60613"
      ]
     },
     "execution_count": 43,
     "metadata": {},
     "output_type": "execute_result"
    }
   ],
   "source": [
    "len(wiki_df['title'])"
   ]
  },
  {
   "cell_type": "code",
   "execution_count": 44,
   "metadata": {},
   "outputs": [
    {
     "data": {
      "text/plain": [
       "31755"
      ]
     },
     "execution_count": 44,
     "metadata": {},
     "output_type": "execute_result"
    }
   ],
   "source": [
    "len(wiki_df['title'].unique())"
   ]
  },
  {
   "cell_type": "code",
   "execution_count": 40,
   "metadata": {},
   "outputs": [
    {
     "data": {
      "text/plain": [
       "'영어'"
      ]
     },
     "execution_count": 40,
     "metadata": {},
     "output_type": "execute_result"
    }
   ],
   "source": [
    "wiki_df['title'][147]"
   ]
  },
  {
   "cell_type": "code",
   "execution_count": 41,
   "metadata": {},
   "outputs": [
    {
     "data": {
      "text/plain": [
       "'영어권\\n 근대 잉글랜드어는 종종 최초의 지구적 링구아 프랑카로서 언급된다.   잉글랜드어는 통신, 과학, 무역, 비행, 오락, 방송, 외교 등의 분야에서 국제어로서 사용되고 있다. 때문에 잉글랜드어의 사용은 종종 언어 제국주의라는 비판을 받기도 한다.  잉글랜드어는 대영제국의 팽창과 함께 브리튼 제도의 밖에서 사용되기 시작하였으며 19세기 말 무렵에는 글자 그대로 전지구적 언어가 되었다.  영국의 식민지였던 미국과 캐나다 역시 잉글랜드어 사용의 확대에 기여하였는데, 특히 제2차 세계대전 이후 초강국이 된 미국으로 인해 잉글랜드어 사용의 세계화는 더욱 확산되었다\\n\\n의료나 컴퓨터 사용과 같은 여러 분야는 기초적인 잉글랜드어 사용 능력을 전제로 한다. 이를 위해 수억명 이상의 사람들이 잉글랜드어를 배운다.  잉글랜드어는 유엔의 여섯 공용어 가운데 하나이다.\\n\\n영국의 언어학자 데이비드 크리스털은 전 지구적인 잉글랜드어 사용의 급격한 증가로 인해 다른 언어가 막대한 타격을 입고 있다고 말한다. 북아메리카와 오스트레일리아를 포함한 지구 곳곳에서 잉글랜드어 사용이 일반화됨으로써 각 지역의 자연어가 갖고 있던 언어 다양성이 감소하고 심지어 더이상 쓰는 사람이 없는 사어가 되고 있다고 지적한다.  이러한 잉글랜드어의 영향은 역사언어학의 연구에서도 확인할 수 있다. 여러 언어 공동체에 광범위하게 확산되어 사용되고 있는 잉글랜드어는 복잡하고 역동적인 언어 변화를 가져왔다. 크리올과 피진은 이러한 잉글랜드어의 영향으로 만들어진 새로운 어족이다.'"
      ]
     },
     "execution_count": 41,
     "metadata": {},
     "output_type": "execute_result"
    }
   ],
   "source": [
    "wiki_df['text'][147]"
   ]
  },
  {
   "cell_type": "code",
   "execution_count": 42,
   "metadata": {},
   "outputs": [
    {
     "data": {
      "text/plain": [
       "'잉글랜드어는 어느 나라의 공용어야?'"
      ]
     },
     "execution_count": 42,
     "metadata": {},
     "output_type": "execute_result"
    }
   ],
   "source": [
    "qg(wiki_df['title'][147], wiki_df['text'][147])"
   ]
  },
  {
   "cell_type": "code",
   "execution_count": 274,
   "metadata": {},
   "outputs": [
    {
     "name": "stderr",
     "output_type": "stream",
     "text": [
      " 16%|█▌        | 9756/60613 [18:51<3:14:38,  4.35it/s][Korean Sentence Splitter]: Too long text! turn off quotes calibration!\n",
      " 75%|███████▌  | 45495/60613 [3:37:52<43:01,  5.86it/s][Korean Sentence Splitter]: Too long text! turn off quotes calibration!\n",
      "100%|██████████| 60613/60613 [4:57:42<00:00,  3.39it/s]\n"
     ]
    }
   ],
   "source": [
    "contexts = []\n",
    "questions = []\n",
    "answers = []\n",
    "doc_ids = []\n",
    "error_ids = []\n",
    "for i in tqdm(range(len(wiki_df))):\n",
    "    c = wiki_df['text'][i]\n",
    "    a = wiki_df['title'][i]\n",
    "    if a not in answers and c not in contexts:\n",
    "        try:\n",
    "            q = qg(a, c, beam = 10, top_p=0.9)\n",
    "        except:\n",
    "            error_ids.append(i)\n",
    "            continue\n",
    "        contexts.append(c)\n",
    "        answers.append(a)\n",
    "        questions.append(q)\n",
    "        doc_ids.append(wiki_df['document_id'][i])\n",
    "wiki_qg_arg_df = pd.DataFrame(data={'answer':answers,'question':questions,'context':contexts, 'doc_id':doc_ids})\n",
    "wiki_qg_arg_df.to_csv('wiki_qg_arg_df.csv', index=False)"
   ]
  },
  {
   "cell_type": "code",
   "execution_count": 46,
   "metadata": {},
   "outputs": [
    {
     "data": {
      "text/html": [
       "<div>\n",
       "<style scoped>\n",
       "    .dataframe tbody tr th:only-of-type {\n",
       "        vertical-align: middle;\n",
       "    }\n",
       "\n",
       "    .dataframe tbody tr th {\n",
       "        vertical-align: top;\n",
       "    }\n",
       "\n",
       "    .dataframe thead th {\n",
       "        text-align: right;\n",
       "    }\n",
       "</style>\n",
       "<table border=\"1\" class=\"dataframe\">\n",
       "  <thead>\n",
       "    <tr style=\"text-align: right;\">\n",
       "      <th></th>\n",
       "      <th>answer</th>\n",
       "      <th>question</th>\n",
       "      <th>context</th>\n",
       "      <th>doc_id</th>\n",
       "    </tr>\n",
       "  </thead>\n",
       "  <tbody>\n",
       "    <tr>\n",
       "      <th>0</th>\n",
       "      <td>나라 목록</td>\n",
       "      <td>전 세계 206개 나라의 각 현황과 주권 승인 정보를 개요 형태로 나열하는 문서의 ...</td>\n",
       "      <td>이 문서는 나라 목록이며, 전 세계 206개 나라의 각 현황과 주권 승인 정보를 개...</td>\n",
       "      <td>0</td>\n",
       "    </tr>\n",
       "    <tr>\n",
       "      <th>1</th>\n",
       "      <td>나라 목록</td>\n",
       "      <td>ISIS는 준국가로 분류되는 이유가 뭐야?</td>\n",
       "      <td>이 목록에 실린 국가 기준은 1933년 몬테비데오 협약 1장을 참고로 하였다. 협정...</td>\n",
       "      <td>1</td>\n",
       "    </tr>\n",
       "    <tr>\n",
       "      <th>2</th>\n",
       "      <td>백남준</td>\n",
       "      <td>1966년 졸업과 함께 독일로 유학을 떠나 뮌헨 대학교 및 쾰른 대학교 등에서 서양...</td>\n",
       "      <td>현 서울특별시 종로구 서린동 (구 일제 강점기 경기도 경성부 서린정) 출신이다. 친...</td>\n",
       "      <td>2</td>\n",
       "    </tr>\n",
       "    <tr>\n",
       "      <th>3</th>\n",
       "      <td>아오조라 문고</td>\n",
       "      <td>일본어판 구텐베르크 프로젝트로 불리는 일본의 인터넷 전자도서관 이름은?</td>\n",
       "      <td>아오조라 문고(靑空文庫, あおぞらぶんこ|아오조라 분고)는 ‘일본어판 구텐베르크 프로...</td>\n",
       "      <td>3</td>\n",
       "    </tr>\n",
       "    <tr>\n",
       "      <th>4</th>\n",
       "      <td>아오조라 문고</td>\n",
       "      <td>일본 작가들의 작품은 얼마나 있어?</td>\n",
       "      <td>저자 사망 이후 50년이 지나 저작권이 소멸한 메이지 시대부터 쇼와 시대 초기까지의...</td>\n",
       "      <td>4</td>\n",
       "    </tr>\n",
       "    <tr>\n",
       "      <th>...</th>\n",
       "      <td>...</td>\n",
       "      <td>...</td>\n",
       "      <td>...</td>\n",
       "      <td>...</td>\n",
       "    </tr>\n",
       "    <tr>\n",
       "      <th>56691</th>\n",
       "      <td>오키나와 현립 박물관·미술관</td>\n",
       "      <td>오키나와에 있는 최초의 복합 문화시설은?</td>\n",
       "      <td>오키나와 현립 박물관·미술관( , Okinawa Prefectural Museum ...</td>\n",
       "      <td>60608</td>\n",
       "    </tr>\n",
       "    <tr>\n",
       "      <th>56692</th>\n",
       "      <td>오키나와 현립 박물관·미술관</td>\n",
       "      <td>오키나와 민정부립 슈리 박물관이 바뀐 건 언제야?</td>\n",
       "      <td>1936년 7월, 오키나와현 교육위원회 부설 향토 박물관(沖縄県教育会附設郷土博物館)...</td>\n",
       "      <td>60609</td>\n",
       "    </tr>\n",
       "    <tr>\n",
       "      <th>56693</th>\n",
       "      <td>오키나와 현립 박물관·미술관</td>\n",
       "      <td>박물관이 관의 애칭 및 마스코트를 공모한게 언제야?</td>\n",
       "      <td>박물관은 개관 10주년이되는 2017년에 관의 애칭 및 마스코트를 일반인에게 공모했...</td>\n",
       "      <td>60610</td>\n",
       "    </tr>\n",
       "    <tr>\n",
       "      <th>56694</th>\n",
       "      <td>단결권 및 단체교섭권 협약</td>\n",
       "      <td>국제 노동 기구의 8대 핵심 협약 중 하나가 뭐야?</td>\n",
       "      <td>단결권 및 단체교섭권 협약(Right to Organise and Collectiv...</td>\n",
       "      <td>60611</td>\n",
       "    </tr>\n",
       "    <tr>\n",
       "      <th>56695</th>\n",
       "      <td>단결권 및 단체교섭권 협약</td>\n",
       "      <td>ISO 8601에서 노동자단체와 사용자단체 사이의 간섭을 금지한 이유가 뭐야?</td>\n",
       "      <td>이 협약은 부당노동행위 제도를 규율하고 있다. 협약 제1조에서 반노동조합 차별행위로...</td>\n",
       "      <td>60612</td>\n",
       "    </tr>\n",
       "  </tbody>\n",
       "</table>\n",
       "<p>56696 rows × 4 columns</p>\n",
       "</div>"
      ],
      "text/plain": [
       "                answer                                           question  \\\n",
       "0                나라 목록  전 세계 206개 나라의 각 현황과 주권 승인 정보를 개요 형태로 나열하는 문서의 ...   \n",
       "1                나라 목록                            ISIS는 준국가로 분류되는 이유가 뭐야?   \n",
       "2                  백남준  1966년 졸업과 함께 독일로 유학을 떠나 뮌헨 대학교 및 쾰른 대학교 등에서 서양...   \n",
       "3              아오조라 문고            일본어판 구텐베르크 프로젝트로 불리는 일본의 인터넷 전자도서관 이름은?   \n",
       "4              아오조라 문고                                일본 작가들의 작품은 얼마나 있어?   \n",
       "...                ...                                                ...   \n",
       "56691  오키나와 현립 박물관·미술관                             오키나와에 있는 최초의 복합 문화시설은?   \n",
       "56692  오키나와 현립 박물관·미술관                        오키나와 민정부립 슈리 박물관이 바뀐 건 언제야?   \n",
       "56693  오키나와 현립 박물관·미술관                       박물관이 관의 애칭 및 마스코트를 공모한게 언제야?   \n",
       "56694   단결권 및 단체교섭권 협약                       국제 노동 기구의 8대 핵심 협약 중 하나가 뭐야?   \n",
       "56695   단결권 및 단체교섭권 협약        ISO 8601에서 노동자단체와 사용자단체 사이의 간섭을 금지한 이유가 뭐야?   \n",
       "\n",
       "                                                 context  doc_id  \n",
       "0      이 문서는 나라 목록이며, 전 세계 206개 나라의 각 현황과 주권 승인 정보를 개...       0  \n",
       "1      이 목록에 실린 국가 기준은 1933년 몬테비데오 협약 1장을 참고로 하였다. 협정...       1  \n",
       "2      현 서울특별시 종로구 서린동 (구 일제 강점기 경기도 경성부 서린정) 출신이다. 친...       2  \n",
       "3      아오조라 문고(靑空文庫, あおぞらぶんこ|아오조라 분고)는 ‘일본어판 구텐베르크 프로...       3  \n",
       "4      저자 사망 이후 50년이 지나 저작권이 소멸한 메이지 시대부터 쇼와 시대 초기까지의...       4  \n",
       "...                                                  ...     ...  \n",
       "56691  오키나와 현립 박물관·미술관( , Okinawa Prefectural Museum ...   60608  \n",
       "56692  1936년 7월, 오키나와현 교육위원회 부설 향토 박물관(沖縄県教育会附設郷土博物館)...   60609  \n",
       "56693  박물관은 개관 10주년이되는 2017년에 관의 애칭 및 마스코트를 일반인에게 공모했...   60610  \n",
       "56694  단결권 및 단체교섭권 협약(Right to Organise and Collectiv...   60611  \n",
       "56695  이 협약은 부당노동행위 제도를 규율하고 있다. 협약 제1조에서 반노동조합 차별행위로...   60612  \n",
       "\n",
       "[56696 rows x 4 columns]"
      ]
     },
     "execution_count": 46,
     "metadata": {},
     "output_type": "execute_result"
    }
   ],
   "source": [
    "wiki_qa_df"
   ]
  },
  {
   "cell_type": "code",
   "execution_count": 275,
   "metadata": {},
   "outputs": [
    {
     "data": {
      "text/html": [
       "<div>\n",
       "<style scoped>\n",
       "    .dataframe tbody tr th:only-of-type {\n",
       "        vertical-align: middle;\n",
       "    }\n",
       "\n",
       "    .dataframe tbody tr th {\n",
       "        vertical-align: top;\n",
       "    }\n",
       "\n",
       "    .dataframe thead th {\n",
       "        text-align: right;\n",
       "    }\n",
       "</style>\n",
       "<table border=\"1\" class=\"dataframe\">\n",
       "  <thead>\n",
       "    <tr style=\"text-align: right;\">\n",
       "      <th></th>\n",
       "      <th>answer</th>\n",
       "      <th>question</th>\n",
       "      <th>context</th>\n",
       "      <th>doc_id</th>\n",
       "    </tr>\n",
       "  </thead>\n",
       "  <tbody>\n",
       "    <tr>\n",
       "      <th>0</th>\n",
       "      <td>나라 목록</td>\n",
       "      <td>세계 각 지역의 현황과 주권 승인 정보를 기재하는 문서의 이름은?</td>\n",
       "      <td>이 문서는 나라 목록이며, 전 세계 206개 나라의 각 현황과 주권 승인 정보를 개...</td>\n",
       "      <td>0</td>\n",
       "    </tr>\n",
       "    <tr>\n",
       "      <th>1</th>\n",
       "      <td>백남준</td>\n",
       "      <td>\"큰대문집\"에서 18세까지 살고, 졸업과 함께 독일로 유학을 떠나 뮌헨 대학교 및 ...</td>\n",
       "      <td>현 서울특별시 종로구 서린동 (구 일제 강점기 경기도 경성부 서린정) 출신이다. 친...</td>\n",
       "      <td>2</td>\n",
       "    </tr>\n",
       "    <tr>\n",
       "      <th>2</th>\n",
       "      <td>아오조라 문고</td>\n",
       "      <td>일본어판 구텐베르크 프로젝트로 불리는 일본의 인터넷 전자도서관 이름은?</td>\n",
       "      <td>아오조라 문고(靑空文庫, あおぞらぶんこ|아오조라 분고)는 ‘일본어판 구텐베르크 프로...</td>\n",
       "      <td>3</td>\n",
       "    </tr>\n",
       "    <tr>\n",
       "      <th>3</th>\n",
       "      <td>데니스 리치</td>\n",
       "      <td>애플 컴퓨터는 누구의 업적을 기반으로 하고 있어?</td>\n",
       "      <td>켄 톰슨(Ken Thompson) 등과 함께 최초의 유닉스(Unix) 시스템을 개발...</td>\n",
       "      <td>8</td>\n",
       "    </tr>\n",
       "    <tr>\n",
       "      <th>4</th>\n",
       "      <td>주기율표</td>\n",
       "      <td>원소를 구분하기 쉽게 성질에 따라 배열한 표가 뭐야?</td>\n",
       "      <td>주기율표(週期律表, 주기률표, periodic table) 또는 주기표(週期表)는 ...</td>\n",
       "      <td>9</td>\n",
       "    </tr>\n",
       "    <tr>\n",
       "      <th>...</th>\n",
       "      <td>...</td>\n",
       "      <td>...</td>\n",
       "      <td>...</td>\n",
       "      <td>...</td>\n",
       "    </tr>\n",
       "    <tr>\n",
       "      <th>31705</th>\n",
       "      <td>2022년 FIFA 월드컵 유럽 지역 예선 플레이오프</td>\n",
       "      <td>결승전에서 승리한 3개 팀은 언제 본선 진출이 가능한가?</td>\n",
       "      <td>2022년 FIFA 월드컵 유럽 지역 예선 플레이오프 진행 방식은 2019년 12월...</td>\n",
       "      <td>60597</td>\n",
       "    </tr>\n",
       "    <tr>\n",
       "      <th>31706</th>\n",
       "      <td>자주국방론</td>\n",
       "      <td>박정희 정부가 분쟁의 책임을 당사국에 국한시킨 주장이 뭐야?</td>\n",
       "      <td>박정희 정부가 자주국방론을 내놓은 배경은 \"아시아의 공산주의 국가와 자유진영 국가의...</td>\n",
       "      <td>60598</td>\n",
       "    </tr>\n",
       "    <tr>\n",
       "      <th>31707</th>\n",
       "      <td>페름의 문장</td>\n",
       "      <td>페름에 사는 곰은 어디에 살아?</td>\n",
       "      <td>곰 자체는 페름 지역 숲에 사는 동물이 풍부함을 상징하며, 은색인 이유는 금속, 소...</td>\n",
       "      <td>60606</td>\n",
       "    </tr>\n",
       "    <tr>\n",
       "      <th>31708</th>\n",
       "      <td>오키나와 현립 박물관·미술관</td>\n",
       "      <td>오키나와에 있는 최초의 복합 문화시설은?</td>\n",
       "      <td>오키나와 현립 박물관·미술관( , Okinawa Prefectural Museum ...</td>\n",
       "      <td>60608</td>\n",
       "    </tr>\n",
       "    <tr>\n",
       "      <th>31709</th>\n",
       "      <td>단결권 및 단체교섭권 협약</td>\n",
       "      <td>국제 노동 기구의 8대 핵심 협약 중 하나가 뭐야?</td>\n",
       "      <td>단결권 및 단체교섭권 협약(Right to Organise and Collectiv...</td>\n",
       "      <td>60611</td>\n",
       "    </tr>\n",
       "  </tbody>\n",
       "</table>\n",
       "<p>31710 rows × 4 columns</p>\n",
       "</div>"
      ],
      "text/plain": [
       "                              answer  \\\n",
       "0                              나라 목록   \n",
       "1                                백남준   \n",
       "2                            아오조라 문고   \n",
       "3                             데니스 리치   \n",
       "4                               주기율표   \n",
       "...                              ...   \n",
       "31705  2022년 FIFA 월드컵 유럽 지역 예선 플레이오프   \n",
       "31706                          자주국방론   \n",
       "31707                         페름의 문장   \n",
       "31708                오키나와 현립 박물관·미술관   \n",
       "31709                 단결권 및 단체교섭권 협약   \n",
       "\n",
       "                                                question  \\\n",
       "0                   세계 각 지역의 현황과 주권 승인 정보를 기재하는 문서의 이름은?   \n",
       "1      \"큰대문집\"에서 18세까지 살고, 졸업과 함께 독일로 유학을 떠나 뮌헨 대학교 및 ...   \n",
       "2                일본어판 구텐베르크 프로젝트로 불리는 일본의 인터넷 전자도서관 이름은?   \n",
       "3                            애플 컴퓨터는 누구의 업적을 기반으로 하고 있어?   \n",
       "4                          원소를 구분하기 쉽게 성질에 따라 배열한 표가 뭐야?   \n",
       "...                                                  ...   \n",
       "31705                    결승전에서 승리한 3개 팀은 언제 본선 진출이 가능한가?   \n",
       "31706                  박정희 정부가 분쟁의 책임을 당사국에 국한시킨 주장이 뭐야?   \n",
       "31707                                  페름에 사는 곰은 어디에 살아?   \n",
       "31708                             오키나와에 있는 최초의 복합 문화시설은?   \n",
       "31709                       국제 노동 기구의 8대 핵심 협약 중 하나가 뭐야?   \n",
       "\n",
       "                                                 context  doc_id  \n",
       "0      이 문서는 나라 목록이며, 전 세계 206개 나라의 각 현황과 주권 승인 정보를 개...       0  \n",
       "1      현 서울특별시 종로구 서린동 (구 일제 강점기 경기도 경성부 서린정) 출신이다. 친...       2  \n",
       "2      아오조라 문고(靑空文庫, あおぞらぶんこ|아오조라 분고)는 ‘일본어판 구텐베르크 프로...       3  \n",
       "3      켄 톰슨(Ken Thompson) 등과 함께 최초의 유닉스(Unix) 시스템을 개발...       8  \n",
       "4      주기율표(週期律表, 주기률표, periodic table) 또는 주기표(週期表)는 ...       9  \n",
       "...                                                  ...     ...  \n",
       "31705  2022년 FIFA 월드컵 유럽 지역 예선 플레이오프 진행 방식은 2019년 12월...   60597  \n",
       "31706  박정희 정부가 자주국방론을 내놓은 배경은 \"아시아의 공산주의 국가와 자유진영 국가의...   60598  \n",
       "31707  곰 자체는 페름 지역 숲에 사는 동물이 풍부함을 상징하며, 은색인 이유는 금속, 소...   60606  \n",
       "31708  오키나와 현립 박물관·미술관( , Okinawa Prefectural Museum ...   60608  \n",
       "31709  단결권 및 단체교섭권 협약(Right to Organise and Collectiv...   60611  \n",
       "\n",
       "[31710 rows x 4 columns]"
      ]
     },
     "execution_count": 275,
     "metadata": {},
     "output_type": "execute_result"
    }
   ],
   "source": [
    "wiki_qg_arg_df"
   ]
  },
  {
   "cell_type": "code",
   "execution_count": 277,
   "metadata": {},
   "outputs": [
    {
     "data": {
      "text/plain": [
       "False"
      ]
     },
     "execution_count": 277,
     "metadata": {},
     "output_type": "execute_result"
    }
   ],
   "source": [
    "wiki_qg_arg_df['answer'][31707] in wiki_qg_arg_df['context'][31707]"
   ]
  },
  {
   "cell_type": "code",
   "execution_count": 279,
   "metadata": {},
   "outputs": [
    {
     "name": "stderr",
     "output_type": "stream",
     "text": [
      "100%|██████████| 31710/31710 [00:01<00:00, 28691.68it/s]\n"
     ]
    }
   ],
   "source": [
    "contexts = []\n",
    "questions = []\n",
    "answers = []\n",
    "doc_ids = []\n",
    "error_ids = []\n",
    "flag = True\n",
    "for i in tqdm(range(len(wiki_qg_arg_df))):\n",
    "    if wiki_qg_arg_df['answer'][i] in wiki_qg_arg_df['question'][i]:\n",
    "        continue\n",
    "    elif not wiki_qg_arg_df['answer'][i] in wiki_qg_arg_df['context'][i]:\n",
    "        continue\n",
    "    contexts.append(wiki_qg_arg_df['context'][i])\n",
    "    answers.append(wiki_qg_arg_df['answer'][i])\n",
    "    questions.append(wiki_qg_arg_df['question'][i])\n",
    "    doc_ids.append(wiki_qg_arg_df['doc_id'][i])\n",
    "wiki_arg_post_processing = pd.DataFrame(data={'answer':answers,'question':questions,'context':contexts, 'doc_id':doc_ids})"
   ]
  },
  {
   "cell_type": "code",
   "execution_count": null,
   "metadata": {},
   "outputs": [],
   "source": [
    "wiki_arg_post_processing.to_csv('wiki_arg_post_processing.csv', index=False)"
   ]
  },
  {
   "cell_type": "code",
   "execution_count": 282,
   "metadata": {},
   "outputs": [
    {
     "data": {
      "text/html": [
       "<div>\n",
       "<style scoped>\n",
       "    .dataframe tbody tr th:only-of-type {\n",
       "        vertical-align: middle;\n",
       "    }\n",
       "\n",
       "    .dataframe tbody tr th {\n",
       "        vertical-align: top;\n",
       "    }\n",
       "\n",
       "    .dataframe thead th {\n",
       "        text-align: right;\n",
       "    }\n",
       "</style>\n",
       "<table border=\"1\" class=\"dataframe\">\n",
       "  <thead>\n",
       "    <tr style=\"text-align: right;\">\n",
       "      <th></th>\n",
       "      <th>answer</th>\n",
       "      <th>question</th>\n",
       "      <th>context</th>\n",
       "      <th>doc_id</th>\n",
       "    </tr>\n",
       "  </thead>\n",
       "  <tbody>\n",
       "    <tr>\n",
       "      <th>0</th>\n",
       "      <td>나라 목록</td>\n",
       "      <td>세계 각 지역의 현황과 주권 승인 정보를 기재하는 문서의 이름은?</td>\n",
       "      <td>이 문서는 나라 목록이며, 전 세계 206개 나라의 각 현황과 주권 승인 정보를 개...</td>\n",
       "      <td>0</td>\n",
       "    </tr>\n",
       "    <tr>\n",
       "      <th>1</th>\n",
       "      <td>백남준</td>\n",
       "      <td>\"큰대문집\"에서 18세까지 살고, 졸업과 함께 독일로 유학을 떠나 뮌헨 대학교 및 ...</td>\n",
       "      <td>현 서울특별시 종로구 서린동 (구 일제 강점기 경기도 경성부 서린정) 출신이다. 친...</td>\n",
       "      <td>2</td>\n",
       "    </tr>\n",
       "    <tr>\n",
       "      <th>2</th>\n",
       "      <td>아오조라 문고</td>\n",
       "      <td>일본어판 구텐베르크 프로젝트로 불리는 일본의 인터넷 전자도서관 이름은?</td>\n",
       "      <td>아오조라 문고(靑空文庫, あおぞらぶんこ|아오조라 분고)는 ‘일본어판 구텐베르크 프로...</td>\n",
       "      <td>3</td>\n",
       "    </tr>\n",
       "    <tr>\n",
       "      <th>3</th>\n",
       "      <td>데니스 리치</td>\n",
       "      <td>애플 컴퓨터는 누구의 업적을 기반으로 하고 있어?</td>\n",
       "      <td>켄 톰슨(Ken Thompson) 등과 함께 최초의 유닉스(Unix) 시스템을 개발...</td>\n",
       "      <td>8</td>\n",
       "    </tr>\n",
       "    <tr>\n",
       "      <th>4</th>\n",
       "      <td>주기율표</td>\n",
       "      <td>원소를 구분하기 쉽게 성질에 따라 배열한 표가 뭐야?</td>\n",
       "      <td>주기율표(週期律表, 주기률표, periodic table) 또는 주기표(週期表)는 ...</td>\n",
       "      <td>9</td>\n",
       "    </tr>\n",
       "    <tr>\n",
       "      <th>...</th>\n",
       "      <td>...</td>\n",
       "      <td>...</td>\n",
       "      <td>...</td>\n",
       "      <td>...</td>\n",
       "    </tr>\n",
       "    <tr>\n",
       "      <th>16525</th>\n",
       "      <td>타바투이호</td>\n",
       "      <td>네이바가 어느 호수에서 태어났어?</td>\n",
       "      <td>타바투이호의 형성과 관련하여 전해지는 전설이 있다.\\n\\n예전에 이 지역에는 아름답...</td>\n",
       "      <td>60594</td>\n",
       "    </tr>\n",
       "    <tr>\n",
       "      <th>16526</th>\n",
       "      <td>2022년 FIFA 월드컵 유럽 지역 예선 플레이오프</td>\n",
       "      <td>결승전에서 승리한 3개 팀은 언제 본선 진출이 가능한가?</td>\n",
       "      <td>2022년 FIFA 월드컵 유럽 지역 예선 플레이오프 진행 방식은 2019년 12월...</td>\n",
       "      <td>60597</td>\n",
       "    </tr>\n",
       "    <tr>\n",
       "      <th>16527</th>\n",
       "      <td>자주국방론</td>\n",
       "      <td>박정희 정부가 분쟁의 책임을 당사국에 국한시킨 주장이 뭐야?</td>\n",
       "      <td>박정희 정부가 자주국방론을 내놓은 배경은 \"아시아의 공산주의 국가와 자유진영 국가의...</td>\n",
       "      <td>60598</td>\n",
       "    </tr>\n",
       "    <tr>\n",
       "      <th>16528</th>\n",
       "      <td>오키나와 현립 박물관·미술관</td>\n",
       "      <td>오키나와에 있는 최초의 복합 문화시설은?</td>\n",
       "      <td>오키나와 현립 박물관·미술관( , Okinawa Prefectural Museum ...</td>\n",
       "      <td>60608</td>\n",
       "    </tr>\n",
       "    <tr>\n",
       "      <th>16529</th>\n",
       "      <td>단결권 및 단체교섭권 협약</td>\n",
       "      <td>국제 노동 기구의 8대 핵심 협약 중 하나가 뭐야?</td>\n",
       "      <td>단결권 및 단체교섭권 협약(Right to Organise and Collectiv...</td>\n",
       "      <td>60611</td>\n",
       "    </tr>\n",
       "  </tbody>\n",
       "</table>\n",
       "<p>16530 rows × 4 columns</p>\n",
       "</div>"
      ],
      "text/plain": [
       "                              answer  \\\n",
       "0                              나라 목록   \n",
       "1                                백남준   \n",
       "2                            아오조라 문고   \n",
       "3                             데니스 리치   \n",
       "4                               주기율표   \n",
       "...                              ...   \n",
       "16525                          타바투이호   \n",
       "16526  2022년 FIFA 월드컵 유럽 지역 예선 플레이오프   \n",
       "16527                          자주국방론   \n",
       "16528                오키나와 현립 박물관·미술관   \n",
       "16529                 단결권 및 단체교섭권 협약   \n",
       "\n",
       "                                                question  \\\n",
       "0                   세계 각 지역의 현황과 주권 승인 정보를 기재하는 문서의 이름은?   \n",
       "1      \"큰대문집\"에서 18세까지 살고, 졸업과 함께 독일로 유학을 떠나 뮌헨 대학교 및 ...   \n",
       "2                일본어판 구텐베르크 프로젝트로 불리는 일본의 인터넷 전자도서관 이름은?   \n",
       "3                            애플 컴퓨터는 누구의 업적을 기반으로 하고 있어?   \n",
       "4                          원소를 구분하기 쉽게 성질에 따라 배열한 표가 뭐야?   \n",
       "...                                                  ...   \n",
       "16525                                 네이바가 어느 호수에서 태어났어?   \n",
       "16526                    결승전에서 승리한 3개 팀은 언제 본선 진출이 가능한가?   \n",
       "16527                  박정희 정부가 분쟁의 책임을 당사국에 국한시킨 주장이 뭐야?   \n",
       "16528                             오키나와에 있는 최초의 복합 문화시설은?   \n",
       "16529                       국제 노동 기구의 8대 핵심 협약 중 하나가 뭐야?   \n",
       "\n",
       "                                                 context  doc_id  \n",
       "0      이 문서는 나라 목록이며, 전 세계 206개 나라의 각 현황과 주권 승인 정보를 개...       0  \n",
       "1      현 서울특별시 종로구 서린동 (구 일제 강점기 경기도 경성부 서린정) 출신이다. 친...       2  \n",
       "2      아오조라 문고(靑空文庫, あおぞらぶんこ|아오조라 분고)는 ‘일본어판 구텐베르크 프로...       3  \n",
       "3      켄 톰슨(Ken Thompson) 등과 함께 최초의 유닉스(Unix) 시스템을 개발...       8  \n",
       "4      주기율표(週期律表, 주기률표, periodic table) 또는 주기표(週期表)는 ...       9  \n",
       "...                                                  ...     ...  \n",
       "16525  타바투이호의 형성과 관련하여 전해지는 전설이 있다.\\n\\n예전에 이 지역에는 아름답...   60594  \n",
       "16526  2022년 FIFA 월드컵 유럽 지역 예선 플레이오프 진행 방식은 2019년 12월...   60597  \n",
       "16527  박정희 정부가 자주국방론을 내놓은 배경은 \"아시아의 공산주의 국가와 자유진영 국가의...   60598  \n",
       "16528  오키나와 현립 박물관·미술관( , Okinawa Prefectural Museum ...   60608  \n",
       "16529  단결권 및 단체교섭권 협약(Right to Organise and Collectiv...   60611  \n",
       "\n",
       "[16530 rows x 4 columns]"
      ]
     },
     "execution_count": 282,
     "metadata": {},
     "output_type": "execute_result"
    }
   ],
   "source": [
    "wiki_arg_post_processing"
   ]
  },
  {
   "cell_type": "code",
   "execution_count": 283,
   "metadata": {},
   "outputs": [
    {
     "data": {
      "text/plain": [
       "'타바투이호의 형성과 관련하여 전해지는 전설이 있다.\\n\\n예전에 이 지역에는 아름답고 강한 사람들이 살았는데, 특히 토솀의 딸 네이바가 아름답기로 소문이 나 부족의 모든 남자들이 비싼 몸값을 지불하며 결혼을 구애했으나, 젊은 사냥꾼 타바투이만이 오지 않았으며, 네이바는 타바투이를 기다리며 시간이 흘렀다. 하지만 어느 날 동쪽에서 온 사람들이 부족을 약탈하기 시작하자 부족의 주술사는 숲 속 깊이 들어가기로 결정하였으며, 타바투이만이 반대하여 침략자와 맞서 싸울 것을 주장하며 전투가 벌어졌다. 전투는 일출부터 일몰까지 이어졌으며 결국 타바투이는 피를 흘리며 쓰러졌다. 네이바는 타바투이의 죽음을 보며 울음을 터트렸고, 이 눈물이 모여 타바투이 위를 덮으며 호수가 만들어졌다. 네이바는 절벽에서 뛰어내려 타바투이호에 물을 공급하는 조용한 강으로 변했다'"
      ]
     },
     "execution_count": 283,
     "metadata": {},
     "output_type": "execute_result"
    }
   ],
   "source": [
    "wiki_arg_post_processing['context'][16525]"
   ]
  },
  {
   "cell_type": "code",
   "execution_count": 252,
   "metadata": {},
   "outputs": [
    {
     "data": {
      "text/plain": [
       "'작가 강신향은 어느 회사에서 일했어?'"
      ]
     },
     "execution_count": 252,
     "metadata": {},
     "output_type": "execute_result"
    }
   ],
   "source": [
    "wiki_qa_df['question'][2053]"
   ]
  },
  {
   "cell_type": "code",
   "execution_count": 148,
   "metadata": {},
   "outputs": [
    {
     "data": {
      "text/plain": [
       "'김소진 (소설가)'"
      ]
     },
     "execution_count": 148,
     "metadata": {},
     "output_type": "execute_result"
    }
   ],
   "source": [
    "wiki_qa_df['answer'][2053]"
   ]
  },
  {
   "cell_type": "code",
   "execution_count": 250,
   "metadata": {},
   "outputs": [
    {
     "data": {
      "text/plain": [
       "'1964년 강원도 철원군 김화읍에서 태어나 1967년에 서울로 이주하여 성장했다. 미아초등학교, 서울보성중학교, 서라벌고등학교를 거쳐 서울대학교 영문과를 졸업했으며, 1990년 한겨레에 입사하여 신문기자로 일했다.\\n\\n1991년 경향신문 신춘문예에 〈쥐잡기〉가 당선되어 등단하였다. 1993년 《열린 사회와 그 적들》(솔출판사, 89-85062-32-8), 1995년 《장석조네 사람들》, 1995년 《고아떤 뺑덕어멈》(솔출판사, 89-85062-97-2) 등 단편 소설집과 장편 소설을 연달아 간행, 같은 세대 작가들 사이에서 일약 주목받는 위치에 올라섰다.\\n\\n1995년 한겨레를 퇴사하고 전업 작가를 선언했으며, 1996년에 《자전거 도둑》, 《양파》(세계사, 89-338-0082-4)를 출간한 이후에도 〈신풍근 배커리 약사(略史)〉, 〈눈 속에 묻힌 검은 항아리〉 등의 단편을 꾸준히 발표하며 필력을 과시했다. 1996년 문화의 날에 제4회 젊은예술가상을 수상하였다.\\n\\n1997년 2월에는 계간 한국문학의 편집위원으로 참여했으나, 얼마 지나지 않아 동년 3월에 췌장암 판정을 받아 신촌 세브란스병원에 입원했고 그 다음 달인 4월 22일 동서한방병원에서 별세했다.\\n\\n유족으로는 1993년에 결혼한 소설가 함정임과 아들 김태형이 있으며, 대표적인 작품으로는 단편소설집 《열린 사회와 그 적들》, 장편소설 《장석조네 사람들》(1995), 단편소설집 《자전거 도둑》(1996), 창작 동화 《열한 살의 푸른 바다》(1996)가 있는데 이들 중 《자전거 도둑》이 1997년 SBS 단막극 《70분 드라마》에서 드라마화됐는데   비교적 서술구조에 충실한 각색을 했는데도 연출의 전반적인 표현방식이 서툴러 원작이 갖는 무게를 효과적으로 전달하는 데  실패했다.'"
      ]
     },
     "execution_count": 250,
     "metadata": {},
     "output_type": "execute_result"
    }
   ],
   "source": [
    "wiki_qa_df['context'][2053]"
   ]
  },
  {
   "cell_type": "code",
   "execution_count": 251,
   "metadata": {},
   "outputs": [
    {
     "data": {
      "text/plain": [
       "False"
      ]
     },
     "execution_count": 251,
     "metadata": {},
     "output_type": "execute_result"
    }
   ],
   "source": [
    "wiki_qa_df['answer'][2053] in wiki_qa_df['context'][2053]"
   ]
  },
  {
   "cell_type": "code",
   "execution_count": 183,
   "metadata": {},
   "outputs": [
    {
     "data": {
      "text/plain": [
       "'아놀드 알로이스 슈워제네거(Arnold Alois Schwarzenegger,  /ˈʃwɔrtsənɛɡər/ ,  aɐnɔlt aloʏs ʃvaɐtsənɛɡɐ , 아놀드 시바제네거, 1947년 7월 30일 ~ )는 오스트리아 태생의 미국의 배우, 보디빌더, 정치인이다.\\n\\n배우가 되기 전 1960년대부터 70년대에 보디빌더로 활동했으며,  38대 캘리포니아 주지사이기도하다. 케네디 대통령의 조카인 마리아 슈라이버와 결혼하여, 4명의 아이를 두고 있다, 보디빌더로서는 전설적인 존재이며 그의 이름 자체가 근육질의 대명사로 쓰이기도 한다.\\n\\n오스트리아 태생의 헐리웃 근육질 배우. 20살에 미국으로 건너와서 보디빌딩대회 미스터 올림피아를 7번이나 우승했고, 전성기는 <코난> 으로 80년대 초반부터 시작되어 지금까지도 속편이 계속 만들어지고 있는 <터미네이터>, 샤론스톤과 공연한 <토탈리콜>, <터미네이터2> 와 <트루 라이즈>에서 인기의 정점을 찍었었다. 스탤론과 비슷한 나이, 이미지로 항상 비교되던 액션배우. 47년생 188센티.슈워제네거는 오스트리아의 작은 마을 탈에서, 오스트리아 헌병 부사관 출신으로 지역 경찰서장이었던 구스타프 슈바르체네거의 2남 중 막내로 태어났다. 15세 때인 1961년 보디빌더가 됐으며 1970년까지 미스터 유니버스 1위 5회, 1970년부터 1980년까지 미스터 올림피아 1위 7회 등 역대 최다 우승 타이틀을 얻었. 병역은 무거운 물건을 들어나를 기회가 많다는 이유로 전차병으로 이행했으며 실제로도 전차 조종 자격증을 보유하고 있다. 1968년 미국 이민 후 1983년 미국 시민이 되었다 . 오스트리아는 본래 이중국적을 허락하지 않아  다른 국가로 귀화한 오스트리아 시민권자들은 국적을 포기해야 하지만, 슈와제너거는 미국 시민권 취득 전 오스트리아 정부로부터 특별 허가를 받아 오스트리아 국적을 유지할 수 있었다. 당시 세계 최고의 보디빌더로 불리던 슈워제네거는 1973년 기네스북에 \\'지구상에서 상체근육이 가장 잘 발달된 사람\\'에 기록되기도했다 . 어렸을 때 보디빌더 출신 영화 배우 레그 파크(Reg Park)가 헤라클레스 영화에 나오는 걸 보곤 그를 롤모델로 삼고 보디빌더를 시작했다고한다.\\n\\n1969년 <뉴욕의 헤라클레스>로 데뷔했으나 초기 10여년간은 배우로서는 무명의 시간을 보냈다. 《코난》(1982), <터미네이터> (1984)로 할리우드에서 인기배우로 자리를 잡은 이래, 지금까지도 꾸준한 인기를 얻고 있다. 1988년, 1990년, 1991년, 1994년, 1996년, 1997년, 2000년, 2003년 \\'헐리우드 머니메이킹 1위\\'에 오르기도 했다 (2011년까지의 주지사 임기중에는 영화 제의를 모두 거절했다). 1990년엔 \\'최초의 천만 달러 이상 받는 배우\\', 이에 그치지않고 출연료가 끝없이 오르고 올라 1996년엔 \\'최초의 2천만 달러 이상 받는 배우\\', 2003년엔 편당 3천 만 달러에 전 세계 흥행수익의 20%를 받아 \\'최초의 3천만 달러 이상 받는 배우\\'가 되어 본인 스스로가 최고 기록인 자신의 기록을 또다시 갱신하는 등 헐리우드에서 수 십년간 1인자의 위치를 지켜왔다 . <터미네이터 2: 심판의 날> (1991)는 슈워제네거에게 최고의 명성을 가져다 준 영화로 꼽힌다. 액션 장르에만 만족하지않고 <트윈스> (1988), <유치원에 간 사나이> (1990), <솔드 아웃> (1996)등의 코미디와 <배트맨과 로빈> (1997)의 악역에도 도전하여 모두 크게 성공하여 배우로서의 연기의 폭을 넓혔다.\\n\\n원래 슈워제네거는 레드 소냐를 촬영하면서 만난 브리짓 닐센과 연인 사이였으나 평소 슈워제네거는 미국 정계에 진출하고 싶은 생각이 간절했던 탓에 브리짓 닐센과 결별하고 1986년 존 F. 케네디의 조카이자 NBC의 유명 언론인이자 기자인 민주당파 마리아 슈라이버와 9년 동안 연애 끝에 결혼했다 .\\n\\n슈워제네거는 사업가이자 정치인이기도 하다. 1989년 미국에서 가장 많은 상금이 주어지는 보디빌딩 대회 \\'아널드 클래식\\'을 설립하였다. 오래전부터 공화당 지지파였는데 1983년 미국 시민권 취득 이후 공화당에 입당하여 1990년 조지 H 부시로부터 \\'문화 체육관광부 의장\\'에 직접 임명되어 4년간의 임기를 지내며 미국 전국 51개주를 철통 호위를 받으며 직접 순회하기도했다. 1991년 1200만 달러 짜리 자가용 제트기를 받기도 했다. 1991년엔 실베스터 스탤론, 브루스 윌리스, 데미 무어 등과 \\'Planet Hollywood\\' 라는 체인 레스토랑을 설립했다. 1992년엔 자선단체 \\'After School All Stars\\' 설립했다. . 1997년 대형 심장 수술을 받기도 했다. 2003년10월 7일, 캘리포니아 주지사 보궐선거에서 공화당 후보로 나와 당선되었다 . 2006년 11월 7일 캘리포니아 주지사 선거에서 공화당 후보로 나와 민주당 후보를 56% 대 39%로 누르고 재선되었다. 영화로 축적한 부(富) 때문에 주지사 임기중 매년 연봉인 17만5천달러를 받지 않고 모두 사회에 전면 기부하기도 했다 .2004년 2007년 두 차례에 걸쳐 타임지에 \\'세계에서 가장 영향력있는 사람\\'에 선정되기도 했다. 또한 2008년엔 <터미네이터>(1984)가 \\'역대 최고의 영화 top 10\\'에 선정되었으며, 美의회 도서관에 영구 보존되기 시작했다. 2008년 미대선에선 공화당 후보 존 매케인을 공식지지했다. 슈워제네거는 2010년 12월 17일 LA Times 인터뷰에서, 퇴임후 오바마 행정부에 입각할 의사도 있다고 말했다. 8년간의 주지사 임기(2003.11~2011.1) 중에는 몇몇 영화의 카메오 출연을 제외하곤 터미네이터: 미래전쟁의 시작(2009)를 비롯하여 모든 영화의 제의를 거절해왔.\\n\\n정치성향은 중도우파 성향으로 여겨진다. 또한 녹색 보수주의자로 알려져 있는데, 캘리포니아 주지사 시절 민주당과 연대하여 친환경주의 정책들을 기용하기도 했고 2019년에는 스웨덴 출신 10대 환경운동가인 그레타 툰베리와 독대를 가지기도 했다.\\n\\n2011년 1월 4일 주지사에서 퇴임하였고, 다시 헐리우드 복귀를 공식 선언했는데, 터미네이터 시리즈의 5탄과 6탄을 비롯하여 30여편의 제의를 받아 기나긴 공백과 적지않은 나이에도 불구하고 건재함을 과시했다 . 그해 5월 일명 \\'가정부 스캔들\\'로 이혼 소송제기를 받았는데 재산이 7500억원 정도(2012년 기준)로 이는 이전까지의 역대 최고의 위자료 액수였던 마이클 조던의 기록(2800억원)도 훨씬 뛰어넘는 신기록이였으며, 헐리우드 최고의 갑부로 드러났다 . 첫 컴백작 <라스트 스탠드> (2013) 촬영에 앞서 친구 실베스터 스탤론의 요청에 따라 <익스펜더블 2> (2012)에 카메오로 4일간 촬영했는데 그 대가로 1천만달러(2012년 기준 약 120억원)를 받았다. 2012년 8월에는 스스로 2천만 달러를 기부하여 \"남가주대 슈워제네거국가 및 국제 정책 연구소\" 를 설립하여 고문위원회 회장과 교수가 되었다 . 같은해 8월, \\'The Sun\\'지는 \"최고의 액션 히어로는 누구인가?\"라는 설문 조사를 했고, 슈워제네거가 \\'최고의 액션 히어로\\' 에 뽑혔다 . 2013년 1월 개봉의 김지운 감독의 헐리우드 진출작으로도 화제가 됐던 <라스트 스탠드> (2013)와 실베스터 스탤론과 공동 주연을 맡은 <이스케이프 플랜> (2013) 등을 시작으로 다시 헐리우드 액션 영화에 본격 복귀하였다. 초대형 블록버스터 터미네이터 시리즈의 새로운 리부트 3부작의 첫번째 영화 <터미네이터: 제네시스> (2015)에 주인공 터미네이터로 돌아오는데, 이는 지난 2003년 개봉한 블록버스터 <터미네이터 3: 기계들의 반란> (2003) 이후 12년 만이다.\\n\\n2015년 1월 26일 WWE 명예의 전당에 헌액되는 영광을 차지한다.'"
      ]
     },
     "execution_count": 183,
     "metadata": {},
     "output_type": "execute_result"
    }
   ],
   "source": [
    "wiki_qa_df['context'][50] + wiki_qa_df['context'][51]"
   ]
  },
  {
   "cell_type": "code",
   "execution_count": 271,
   "metadata": {},
   "outputs": [
    {
     "data": {
      "text/plain": [
       "'터미네이터는 어떤 기록을 세웠어?'"
      ]
     },
     "execution_count": 271,
     "metadata": {},
     "output_type": "execute_result"
    }
   ],
   "source": [
    "qg(wiki_qa_df['answer'][50], wiki_qa_df['context'][50]+wiki_qa_df['context'][51], beam = 10, top_p=0.9, len_penalty=0.01)"
   ]
  },
  {
   "cell_type": "code",
   "execution_count": 154,
   "metadata": {},
   "outputs": [
    {
     "data": {
      "text/plain": [
       "'1964년 강원도 철원군 김화읍에서 태어나 1967년에 서울로 이주하여 성장했다. 미아초등학교, 서울보성중학교, 서라벌고등학교를 거쳐 서울대학교 영문과를 졸업했으며, 1990년 한겨레에 입사하여 신문기자로 일했다.\\n\\n1991년 경향신문 신춘문예에 〈쥐잡기〉가 당선되어 등단하였다. 1993년 《열린 사회와 그 적들》(솔출판사, 89-85062-32-8), 1995년 《장석조네 사람들》, 1995년 《고아떤 뺑덕어멈》(솔출판사, 89-85062-97-2) 등 단편 소설집과 장편 소설을 연달아 간행, 같은 세대 작가들 사이에서 일약 주목받는 위치에 올라섰다.\\n\\n1995년 한겨레를 퇴사하고 전업 작가를 선언했으며, 1996년에 《자전거 도둑》, 《양파》(세계사, 89-338-0082-4)를 출간한 이후에도 〈신풍근 배커리 약사(略史)〉, 〈눈 속에 묻힌 검은 항아리〉 등의 단편을 꾸준히 발표하며 필력을 과시했다. 1996년 문화의 날에 제4회 젊은예술가상을 수상하였다.\\n\\n1997년 2월에는 계간 한국문학의 편집위원으로 참여했으나, 얼마 지나지 않아 동년 3월에 췌장암 판정을 받아 신촌 세브란스병원에 입원했고 그 다음 달인 4월 22일 동서한방병원에서 별세했다.\\n\\n유족으로는 1993년에 결혼한 소설가 함정임과 아들 김태형이 있으며, 대표적인 작품으로는 단편소설집 《열린 사회와 그 적들》, 장편소설 《장석조네 사람들》(1995), 단편소설집 《자전거 도둑》(1996), 창작 동화 《열한 살의 푸른 바다》(1996)가 있는데 이들 중 《자전거 도둑》이 1997년 SBS 단막극 《70분 드라마》에서 드라마화됐는데   비교적 서술구조에 충실한 각색을 했는데도 연출의 전반적인 표현방식이 서툴러 원작이 갖는 무게를 효과적으로 전달하는 데  실패했다.'"
      ]
     },
     "execution_count": 154,
     "metadata": {},
     "output_type": "execute_result"
    }
   ],
   "source": [
    "wiki_qa_df['context'][2053]"
   ]
  },
  {
   "cell_type": "code",
   "execution_count": 273,
   "metadata": {},
   "outputs": [
    {
     "data": {
      "text/plain": [
       "'리누스 토르발스가 발표한 GNU가 뭐야?'"
      ]
     },
     "execution_count": 273,
     "metadata": {},
     "output_type": "execute_result"
    }
   ],
   "source": [
    "qg(wiki_qa_df['answer'][134], wiki_qa_df['context'][134]+wiki_qa_df['context'][135]+wiki_qa_df['context'][136]+wiki_qa_df['context'][137], beam = 25, top_p=0.8, len_penalty=0.01)"
   ]
  },
  {
   "cell_type": "code",
   "execution_count": 269,
   "metadata": {},
   "outputs": [
    {
     "data": {
      "text/plain": [
       "'1985년, 스톨먼은 GNU 선언문을 발표했다. 이는 유닉스에 대항하여 자유로운 대안을 만들기 위한 그의 의지와 동기를 역설한 것이었다. 그리고 얼마 안 있어 그는 비영리 기관인 자유 소프트웨어 재단을 설립했다.\\n\\n그리고 그는 1989년 일반 공중 사용 허가서(GPL) 내에 카피레프트의 개념을 적용하였다. 허드(Hurd) 커널을 제외하고, 대부분의 GNU 시스템이 거의 동시에 완성되었다.\\n\\n1991년, 리누스 토르발스는 GPL로 리눅스 커널을 발표했다. 이를 통해 완벽하게 기능하는 GNU 시스템인 GNU/리눅스 운영 체제가 탄생하게 되었다.'"
      ]
     },
     "execution_count": 269,
     "metadata": {},
     "output_type": "execute_result"
    }
   ],
   "source": [
    "wiki_qa_df['context'][137]"
   ]
  },
  {
   "cell_type": "code",
   "execution_count": 117,
   "metadata": {},
   "outputs": [
    {
     "data": {
      "text/plain": [
       "'1921년 평안남도 중화군 중화면 청학리(현 황해북도 중화군 중화읍)에서 태어나 1934년 1월 25일에 중화천주교회에서 메리놀선교회 소속 요셉 클먼 신부로 부터 영세를 받고, 소신학교(신학 고등학교)인 서울 동성고등학교를 다녔다. 1948년 3월 함경남도 덕원에 있는 덕원신학교를 다니다가, 1950년 1월 17일 남북 분단 이후 공산 정권하의 북한에서 박해를 피해 친구인 윤공회 와 함께 월남하여 서울 성신대학(지금의 가톨릭대학교 신학대학)에 편입했다. 남한으로 탈출하던 중 체포되어 황해도 해주 감옥에 수감되었으며, 가족들은 그대로 북한에 남아 있었다.'"
      ]
     },
     "execution_count": 117,
     "metadata": {},
     "output_type": "execute_result"
    }
   ],
   "source": [
    "wiki_qg_df['context'][695]"
   ]
  },
  {
   "cell_type": "code",
   "execution_count": 235,
   "metadata": {},
   "outputs": [
    {
     "data": {
      "text/plain": [
       "'백남준'"
      ]
     },
     "execution_count": 235,
     "metadata": {},
     "output_type": "execute_result"
    }
   ],
   "source": [
    "wiki_qg_df['answer'][1]"
   ]
  },
  {
   "cell_type": "code",
   "execution_count": 237,
   "metadata": {},
   "outputs": [
    {
     "data": {
      "text/plain": [
       "'1966년 졸업과 함께 독일로 유학을 떠나 뮌헨 대학교 및 쾰른 대학교 등에서 서양의 건축, 음악사, 철학 등을 공부한 사람은?'"
      ]
     },
     "execution_count": 237,
     "metadata": {},
     "output_type": "execute_result"
    }
   ],
   "source": [
    "qg(wiki_qg_df['answer'][1], wiki_qg_df['context'][1])"
   ]
  },
  {
   "cell_type": "code",
   "execution_count": 264,
   "metadata": {},
   "outputs": [
    {
     "data": {
      "text/plain": [
       "\"'아시아에서 온 문화테러리스트'라는 칭호를 얻은 예술가는?\""
      ]
     },
     "execution_count": 264,
     "metadata": {},
     "output_type": "execute_result"
    }
   ],
   "source": [
    "qg(wiki_qg_df['answer'][1], wiki_qg_df['context'][1], beam = 10, top_p=0.9, len_penalty=0.1)"
   ]
  },
  {
   "cell_type": "code",
   "execution_count": 241,
   "metadata": {},
   "outputs": [
    {
     "data": {
      "text/plain": [
       "'현 서울특별시 종로구 서린동 (구 일제 강점기 경기도 경성부 서린정) 출신이다. 친일파인 아버지 백낙승과 어머니 조종희 사이의 3남 2녀 중 막내로 태어났다. 그후 종로구 창신동 197번지 소위 \"큰대문집\"에서 18세까지 살았다. 수송국민학교와 경기제1고등보통학교를 다니면서 피아니스트 신재덕에게 피아노 연주를, 작이건우]]에게 작곡을 각각 배웠다. 이때 한국이 낳은 작곡가 김순남을 사사했다. 1949년 그는 홍콩 로이덴 스쿨로 전학했으며, 한국 전쟁이 발발하기 이전 가족이 일본으로 이주했다. 그 후 일본으로 건너가 1952년 도쿄 대학교 문과부에 입학했다. 2년 후 미술사학 및 미학으로 전공을 정했지만, 실제로는 일본 당대의 작곡가 모로이 사부로, 미학자 노무라 요시오 등에게서 작곡과, 음악사학을 공부했다. 졸업 논문은 ‘아르놀트 쇤베르크 연구’이다.\\n\\n1956년 백남준은 졸업과 함께 독일로 유학을 떠나 뮌헨 대학교 및 쾰른 대학교 등에서 서양의 건축, 음악사, 철학 등을 공부하였다. 뮌헨 대학교 입학 1년 후에는 프라이부르크 국립 음악 대학교로 옮겨 볼프강 포르트너 교수에게 배우지만, 곧 쇤베르크 이후 현대음악의 실험이 활발히 진행되던 다름슈타트 하기 강좌에 참여했다. 1958년 그 곳에서 현대음악가 존 케이지를 만나 그의 음악에 대한 파괴적 접근과 자유정신으로부터 깊은 영감을 얻었다. 이 영감은 \"세계의 역사는 우리에게 알려준다. 주어진 게임에서 이길 수 없다면 규칙을 바꿔라\" 라는 것으로 규정된다. 이후 1950년대부터 활발해지기 시작한 독일 라인 지역의 액션뮤직의 현장에서 백남준은 ‘아시아에서 온 문화테러리스트’(앨런 카프로)라고 불릴 정도의 탁월한 퍼포먼스 아티스트로 활약했다. 1959년 ‘존 케이지에게 보내는 경의’에서 음악적 콜라주와 함께 피아노를 부수는 퍼포먼스를 선보이는 것을 시작으로, 바이올린을 단숨에 파괴하거나(바이올린 솔로) 존 케이지가 착용한 넥타이를 잘라버리는 퍼포먼스(피아노 포르테를 위한 연습곡)가 특히 유명하다. 이 초기 퍼포먼스에 대해 백남준은 스스로 \"충격, 표현주의, 낭만주의, 클라이맥스, 놀라움, 기타 등등을 보여준 것\"이라고 표현한 바 있다. 1961년 카를하인츠 슈토크하우젠의 음악 퍼포먼스 ‘오리기날레’에서 머리와 넥타이로 잉크를 묻혀 두루마리에 흔적을 남기는 독특한 퍼포먼스 심플 머리를 위한 선율을 보여주기도 했다. 1960년대 초반 조지 마키우나스, 요셉 보이스 등과 의기투합하여 플럭서스 활동을 함께 전개했다. 다다이즘에 영향을 받은 플럭서스는 헤라클레이투스가 주장한 ‘변화 생성의 흐름’ 이라는 개념을 받아들여 \"목적이 없는 자유, 실험을 위한 실험\"이라는 명목 하에 이벤트와 퍼포먼스 그리고 전위음악에 주력했고, 곧 유럽과 아시아 및 미국 등 세계로 퍼져나갔다.\\n\\n1961년 백남준은 작곡가 슈토크하우젠이 중심이 된 쾰른의 WDR 전자음악 스튜디오에 출입했으며, 이때 1950년대부터 노버트 위너에 의해 제안된 \\'사이버네틱스\\' 개념 하에서 전자공학을 공부한 것으로 알려져 있다. 특히 레이다와 TV 작업에 몰두했던 독일 작가 칼 오토 괴츠의 실패를 거울 삼아서 2년여 동안 홀로 TV를 활용한 미디어 아트로서의 가능성을 탐문하고 실험했다. 그 성과를 바탕으로 1963년 독일 부퍼탈 파르나스 갤러리에서 자신의 첫 번째 전시 ‘음악의 전시-전자 텔레비전’을 열었으며, 13대의 실험적인 TV를 통해 훗날 비디오 아트라고 불리게 되는 초기 형태를 보여주었다. 이 전시는 백남준이 자신의 즉흥음악 또는 무음악의 발상에 기초한 실제 퍼포먼스, 그 흔적과 결과물처럼 유럽에서 자신이 진행해온 작업의 성과와 함께 TV를 비롯한 미디어로 새로운 예술의 형태를 시도하는 작업이 공존하고 있었다. ‘적분된 피아노’, ‘랜덤 액세스 뮤직’, ‘레코드 샤슐릭’같은 20세기 전위음악에 젖줄을 대고 있는 실험적 음악의 시도와 ‘잘린 소머리’, ‘파괴된 누드 마네킹’, ‘보이스의 피아노 파괴 퍼포먼스’\\'걸음을 위한 선\\' \\'바람을 위한 선\\' 같은 우상파괴적 설치 작업 및 참여예술 형태의 퍼포먼스가 함께 펼쳐졌다. 청년 백남준은 이러한 전시 내용을 ‘동시성’, ‘참여’, ‘임의접속’ 등등에 관한 16개의 테마로써 정리하는 종합적인 큐레이팅 전시로 보여주었기 때문에 최근날짜=2015-5-9 독일, 오스트리아 등지의 연구자들 사이에서 이 전시의 중요성을 재평가하면서 아카이빙 작업과 연구가 점차 활발해지는 추세에 있다.\\n\\n1964년 백남준은 일본으로 건너가 \\'로봇 K-456\\'을 제작했으며, 곧 세계 예술의 중심지 뉴욕으로 이주했다. 뉴욕 언더그라운드 필름 운동의 중심지 중 하나였던 시네마테크 필름메이커스에 관여했으며, 스스로 영상 작업을 진행하기도 했다. 1965년 소니의 포타팩(세계 최초의 휴대용 비디오카메라)으로 미국 뉴욕을 첫 방문 중이던 교황 요한 바오로 6세를 촬영하여 곧바로 그 영상을 ‘카페 오 고고’에서 방영했다. 이것이 미술사에서는 한동안 공식적인 비디오 아트의 시작으로 기록되어 있었다. 지금은 1963년 첫번째 전시를 비디오아트의 기점으로 보고 있다. 또한 첼로 연주자이자 뉴욕 아방가르드 페스티벌의 기획자였던 샬럿 무어먼과 함께 비디오 아트와 음악을 혼합한 퍼포먼스 작업을 활발히 펼쳤다. 특히 1967년 음악에 성적인 코드를 집어넣은 백남준의 ‘오페라 섹스트로니크’에서 샬럿 무어먼은 누드 상태의 첼로 연주를 시도하다가 뉴욕 경찰에 체포되어 큰 사회적 파장을 불러일으켰다. 그 결과로 인해 예술 현장에서 누드를 처벌할 수 없다는 뉴욕의 법 개정이 이루어지는 획기적인 진전이 일어난다. 이후에도 미디어 아트가 미국 뉴욕을 중심으로 서서히 득세해가는 시대적 조류 속에서 두 사람은 ‘살아있는 조각을 위한 TV 브라’, ‘TV 첼로’, ‘TV 침대’ 등등 미디어 테크놀로지와 퍼포먼스를 결합한 많은 예술활동을 전개했다.\\n\\n1974년부터 백남준은 영상으로서의 비디오 아트를 새로운 미술적 방법인 설치 미술로 변환하여 다양하게 진행했으며, 그에 따라 ‘TV 붓다’, ‘달은 가장 오래된 TV다’, ‘TV 정원’, ‘TV 물고기’ 등등 많은 대표작을 선보였다. 이 작품들은 비디오 아트와 생명의 상징을 전자적으로 결합하여 테크놀로지로 물든 현대 사회의 새로운 합성적 생명력을 추구했다는 평판을 얻었다. 특히 \\'TV 붓다\\'는 그의 초기 비디오 설치의 경향을 잘 보여주는 대표작으로서 가장 널리 알려졌다. 1960년대 후반부터 미국의 문화적 환경이 미디어 테크놀로지에 호의적으로 변화하면서 폭발적인 수준의 미디어 전시가 빈발했고, 백남준의 비디오 아트는 그룹전 형태로 수많은 전시에 활발하게 참여했다. 1974년 뉴욕 에버슨 미술관 개인전과 함께 비데아 앤 비디올로지: 1959-1973이라는 예술과 기술을 교차시키는 하이브리드에 관한 저작을 내놓아 미디아 아트의 이해를 도왔으며, 1982년 뉴욕 휘트니 미술관에서 개최된 ‘백남준 회고전’을 통해 그의 예술 세계가 뉴욕을 중심으로 미국 사회에 많이 알려지는 계기가 되었다.\\n\\n1970년대 중반부터는 뉴욕 WNET 방송국, 보스턴 WGBH 방송국과 협력하여 자신의 비디오 아트를 공중파 TV에서 방송했고, 이는 네트워크 방송을 끌어들여 예술 세계의 영역 확장을 꾀한 놀라운 시도였다. 나아가 1984년 1월 1일 ‘굿모닝 미스터 오웰’은 세계적인 아티스트들의 퍼포먼스를 뉴욕 WNET 방송국과 파리 퐁피두 센터를 연결한 실시간 위성 생중계로 방송하여 전 세계적 반향을 불러일으켰다. 샌프란시스코와 서울까지 연결된 이 국제적인 규모의 위성 아트에는 로리 앤더슨, 피터 가브리엘, 오잉고 보잉고, 존 케이지, 요셉 보이스, 앨런 긴즈버그, 이브 몽탕 등의 예술가과 대중문화의 스타가 다수 참여했으며, 전 세계 2천 5백만명(재방송 포함)이 시청하였다. 이로써 전세계적인 차원의 대중적 각인이 이루어졌고, 마치 대중스타처럼 성가를 높였다. 이후에도 ‘위성 아트’ 3부작으로 명명된 ‘바이 바이 키플링’(1986), ‘손에 손잡고’(1988) 등이 이어져 위성 연결을 통한 전세계의 네트워크가 어떻게 새로운 부족사회를 낳는지 실감시켰다.\\n\\n1984년 일본 도쿄 소게쓰[草月]홀에서 백남준과 요셉 보이스가 공동으로 참여한 퍼포먼스 \\'코요테 콘서트 II\\'가 펼쳐졌으며, 이들이 각각 몽골의 늑대 울음소리와 초원의 달빛을 음악적으로 표현한 것을 통해 1961년 첫 만남부터 계속 이어온 공동의 관심사가 무엇인지 알려지기 시작했다. 그러나 이들의 이후 퍼포먼스 계획은 요셉 보이스의 죽음과 함께 미완으로 끝났다.\\n\\n1992년 \\'비디오 때, 비디오 땅\\' 전시는 독일 쿤스트 할레와 스위스 쮜리히에서 진행된 전시의 서울 투어전시로서 당시 과천 막계동에 자리잡은 지 몇 년 되지 않았던 국립현대미술관 과천관에 총 관람 인원 20만명이 찾은 첫번째 전시로 기록되었다. 이 전시의 주요한 작품은 \\'나의 파우스트\\' 시리즈이다. 1993년 백남준은 독일 작가 한스 하케와 함께 베니스 비엔날레 독일관 작가로 초대되어 국가전시관 부문에서 황금사자상을 수상했다. \\'문명의 동서남북\\'이라는 주제의 이 전시에서 그는 북방 유라시아의 유목 문화를 배경으로 전자적 소통을 시도하는 비디오 로봇 형태의‘칭기스칸의 복권’, ‘마르크폴로’, ‘훈족의 왕 아틸라’,‘스키타이의 왕 단군’, ‘로봇 전사’, ‘고대기마인물상’ 같은 작품들을 중심으로 다수의 작품을 내놓았다.\\n\\n1995년 백남준은 제1회 광주 비엔날레 태동의 산파 역할을 하며, 한국 미술이 국제적으로 진출할 수 있도록 조력자 역할을 수행했다. 제1회 광주 비엔날레는 국내외 총 관람객이 160만 명에 달하는 성공을 거두었고, 특히 백남준이 직접 관여한 ‘INFO Art’전이 주목받았다. 또한 백남준은 같은 해 베니스 비엔날레 국가전시관 부문에 한국관을 설치하는 일에 결정적인 역할을 했다. 이로써 한국 미술이 세계 미술계에 진출하는 교두보가 마련되었다고 하겠다. 같은 해 그의 예술적 정수가 담긴 일렉트로닉 수퍼하이웨이 전시를 진행했다. 1996년 4월 9일 뇌졸중으로 쓰러졌으며, 6개월만인 그해 10월에 재기했다. 2000년 뉴욕 구겐하임 미술관에서 ‘백남준의 세계’ 라는 대규모 회고전이 열렸으며, 이때 백남준은 레이저 아트 ‘야곱의 사다리’, ‘삼원소’ 등을 전시한 바 있다.\\n\\n2006년 1월 29일, 미국 마이애미의 자택에서 노환으로 75세로 별세, 유해가 서울, 뉴욕, 독일에 나눠서 안치되었다.'"
      ]
     },
     "execution_count": 241,
     "metadata": {},
     "output_type": "execute_result"
    }
   ],
   "source": [
    "wiki_qg_df['context'][1]"
   ]
  },
  {
   "cell_type": "code",
   "execution_count": 163,
   "metadata": {},
   "outputs": [
    {
     "data": {
      "text/plain": [
       "'프린키피아의 저자는?'"
      ]
     },
     "execution_count": 163,
     "metadata": {},
     "output_type": "execute_result"
    }
   ],
   "source": [
    "qg(wiki_qg_df['answer'][10], wiki_qg_df['context'][10], beam = 10, top_p=0.9)"
   ]
  },
  {
   "cell_type": "code",
   "execution_count": 155,
   "metadata": {},
   "outputs": [
    {
     "data": {
      "text/plain": [
       "\"《자연철학의 수학적 원리》(自然哲學- 數學的原理, Philosophiae Naturalis Principia Mathematica|필로소피아이 나투랄리스 프린키피아 마테마티카)는 서양의 과학 혁명을 집대성한 책의 하나이다. 줄여서 '프린키피아'(Principia)라고 불리기도 한다. 1687년에 나온 아이작 뉴턴의 세 권짜리 저작으로, 라틴어로 썼다.\\n\\n이 책에서 뉴턴은 고전 역학의 바탕을 이루는 뉴턴의 운동 법칙과 만유인력의 법칙을 기술하고 있다. 당시 요하네스 케플러가 천체의 운동에 대한 자료를 바탕으로 알아낸 케플러의 행성운동법칙을 뉴턴은 자신의 위 두 법칙들로써 증명해 낸다. 그는 이러한 일련의 작업을 통해서 코페르니쿠스에서 시작되어 케플러, 갈릴레오를 거치면서 이루어져 온 천문학의 혁명을 완성하는 한편, 갈릴레오 이후 데카르트, 하위헌스 등을 통해서 이루어져 온 근대 역학의 성공을 눈부시게 보여주고 있다.\\n\\n에드먼드 핼리도 이 책을 바탕으로 1530년, 1607년, 1682년에 나타났던 혜성들의 궤도를 계산해, 이 혜성 모두가 동일한 하나의 천체일 가능성이 높다는 사실을 발견했고 일정한 주기에 따라 1750년대 말에 다시 나타나리라고 예견했다. 뉴턴도 핼리도 죽은 뒤인 1758년에 수수께끼 같은 천체가 발견되었는데 그것이 다름 아닌 핼리 혜성이다. \\n\\n제1편은 운동에 관한 일반적 명제를 논술하였고, 제2편은 매질 속에서의 물체의 운동을 다루고, 마지막 제3편은 코페르니쿠스의 지동설, 케플러의 행성의 타원궤도 등의 행성의 운동을 증명하였다.\\n\\n뉴턴은 그의 이론을 기술하기 위해 미적분학을 역학에 적용하였지만, 이 책에서는 주로 기하학적인 증명 방법을 사용하고 미적분을 거의 사용하지 않고 있는데, 이는 당시의 사람들의 이해를 고려해서라고 한다.\\n\\n1687년에 초판, 1712년 증보 개정판, 그리고 1726년 제3판이 출간되었다.\""
      ]
     },
     "execution_count": 155,
     "metadata": {},
     "output_type": "execute_result"
    }
   ],
   "source": [
    "wiki_qg_df['context'][10]"
   ]
  },
  {
   "cell_type": "code",
   "execution_count": 74,
   "metadata": {},
   "outputs": [],
   "source": [
    "aaa = []\n",
    "ccc = []\n",
    "qqq = []\n",
    "iii = []\n",
    "\n",
    "for i in range(len(wiki_qa_df)):\n",
    "    a = wiki_qa_df['answer'][i]\n",
    "    if a not in aaa:\n",
    "        ccc.append(wiki_qa_df['context'][i])\n",
    "        aaa.append(a)\n",
    "        qqq.append(wiki_qa_df['question'][i])\n",
    "        iii.append(wiki_qa_df['doc_id'][i])\n",
    "wiki_qg_df = pd.DataFrame(data={'answer':aaa,'question':qqq,'context':ccc, 'doc_id':iii})"
   ]
  },
  {
   "cell_type": "code",
   "execution_count": 75,
   "metadata": {},
   "outputs": [
    {
     "data": {
      "text/plain": [
       "31738"
      ]
     },
     "execution_count": 75,
     "metadata": {},
     "output_type": "execute_result"
    }
   ],
   "source": [
    "len(wiki_qg_df)"
   ]
  },
  {
   "cell_type": "code",
   "execution_count": 76,
   "metadata": {},
   "outputs": [
    {
     "data": {
      "text/html": [
       "<div>\n",
       "<style scoped>\n",
       "    .dataframe tbody tr th:only-of-type {\n",
       "        vertical-align: middle;\n",
       "    }\n",
       "\n",
       "    .dataframe tbody tr th {\n",
       "        vertical-align: top;\n",
       "    }\n",
       "\n",
       "    .dataframe thead th {\n",
       "        text-align: right;\n",
       "    }\n",
       "</style>\n",
       "<table border=\"1\" class=\"dataframe\">\n",
       "  <thead>\n",
       "    <tr style=\"text-align: right;\">\n",
       "      <th></th>\n",
       "      <th>answer</th>\n",
       "      <th>question</th>\n",
       "      <th>context</th>\n",
       "      <th>doc_id</th>\n",
       "    </tr>\n",
       "  </thead>\n",
       "  <tbody>\n",
       "    <tr>\n",
       "      <th>0</th>\n",
       "      <td>나라 목록</td>\n",
       "      <td>전 세계 206개 나라의 각 현황과 주권 승인 정보를 개요 형태로 나열하는 문서의 ...</td>\n",
       "      <td>이 문서는 나라 목록이며, 전 세계 206개 나라의 각 현황과 주권 승인 정보를 개...</td>\n",
       "      <td>0</td>\n",
       "    </tr>\n",
       "    <tr>\n",
       "      <th>1</th>\n",
       "      <td>백남준</td>\n",
       "      <td>1966년 졸업과 함께 독일로 유학을 떠나 뮌헨 대학교 및 쾰른 대학교 등에서 서양...</td>\n",
       "      <td>현 서울특별시 종로구 서린동 (구 일제 강점기 경기도 경성부 서린정) 출신이다. 친...</td>\n",
       "      <td>2</td>\n",
       "    </tr>\n",
       "    <tr>\n",
       "      <th>2</th>\n",
       "      <td>아오조라 문고</td>\n",
       "      <td>일본어판 구텐베르크 프로젝트로 불리는 일본의 인터넷 전자도서관 이름은?</td>\n",
       "      <td>아오조라 문고(靑空文庫, あおぞらぶんこ|아오조라 분고)는 ‘일본어판 구텐베르크 프로...</td>\n",
       "      <td>3</td>\n",
       "    </tr>\n",
       "    <tr>\n",
       "      <th>3</th>\n",
       "      <td>데니스 리치</td>\n",
       "      <td>애플 컴퓨터는 누구의 업적을 기반으로 하고 있어?</td>\n",
       "      <td>켄 톰슨(Ken Thompson) 등과 함께 최초의 유닉스(Unix) 시스템을 개발...</td>\n",
       "      <td>8</td>\n",
       "    </tr>\n",
       "    <tr>\n",
       "      <th>4</th>\n",
       "      <td>주기율표</td>\n",
       "      <td>원소를 구분하기 쉽게 성질에 따라 배열한 표가 뭐야?</td>\n",
       "      <td>주기율표(週期律表, 주기률표, periodic table) 또는 주기표(週期表)는 ...</td>\n",
       "      <td>9</td>\n",
       "    </tr>\n",
       "  </tbody>\n",
       "</table>\n",
       "</div>"
      ],
      "text/plain": [
       "    answer                                           question  \\\n",
       "0    나라 목록  전 세계 206개 나라의 각 현황과 주권 승인 정보를 개요 형태로 나열하는 문서의 ...   \n",
       "1      백남준  1966년 졸업과 함께 독일로 유학을 떠나 뮌헨 대학교 및 쾰른 대학교 등에서 서양...   \n",
       "2  아오조라 문고            일본어판 구텐베르크 프로젝트로 불리는 일본의 인터넷 전자도서관 이름은?   \n",
       "3   데니스 리치                        애플 컴퓨터는 누구의 업적을 기반으로 하고 있어?   \n",
       "4     주기율표                      원소를 구분하기 쉽게 성질에 따라 배열한 표가 뭐야?   \n",
       "\n",
       "                                             context  doc_id  \n",
       "0  이 문서는 나라 목록이며, 전 세계 206개 나라의 각 현황과 주권 승인 정보를 개...       0  \n",
       "1  현 서울특별시 종로구 서린동 (구 일제 강점기 경기도 경성부 서린정) 출신이다. 친...       2  \n",
       "2  아오조라 문고(靑空文庫, あおぞらぶんこ|아오조라 분고)는 ‘일본어판 구텐베르크 프로...       3  \n",
       "3  켄 톰슨(Ken Thompson) 등과 함께 최초의 유닉스(Unix) 시스템을 개발...       8  \n",
       "4  주기율표(週期律表, 주기률표, periodic table) 또는 주기표(週期表)는 ...       9  "
      ]
     },
     "execution_count": 76,
     "metadata": {},
     "output_type": "execute_result"
    }
   ],
   "source": [
    "wiki_qg_df.head()"
   ]
  },
  {
   "cell_type": "code",
   "execution_count": 79,
   "metadata": {},
   "outputs": [],
   "source": [
    "wiki_qg_df.to_csv('wiki_qg_df.csv', index=False)"
   ]
  },
  {
   "cell_type": "code",
   "execution_count": 78,
   "metadata": {},
   "outputs": [
    {
     "data": {
      "text/plain": [
       "'켄 톰슨(Ken Thompson) 등과 함께 최초의 유닉스(Unix) 시스템을 개발했고, 1971년 최초의 〈Unix Programmer\\'s Manual〉을 썼다. 또한 C 언어를 개발한 후 브라이언 커니핸과 함께 〈C 프로그래밍 언어〉(The C Programming Language)를 기술했다. 커니핸과 〈C 프로그래밍 언어〉책을 썼기에 커니핸이 C 언어 개발에 참여한 것으로 종종 오해받으나 커니핸의 말에 따르면 자신은 C언어 개발에 참여하지 않았다고 한다.\\n\\nALTRAN, B언어, BCPL, Multics 등의 개발에도 영향을 끼친 것으로도 알려져 있다.\\n\\n1983년에 켄 톰프슨과 \"범용 운영체제 이론개발, 특히 유닉스 운영체제의 구현에 대한 공로\"로 튜링상을 수상했다.\\n\\n미국의 경제 전문지 \\'비즈니스 인사이더\\'에서는 \\'현재의 애플 컴퓨터는 거의 모두 데니스 리치의 업적에 기반하고 있다\\'이라며 그의 업적을 평가했다.  현재 애플 매킨토시의 OS X와 아이폰의 iOS는 모두 유닉스 운영체제를 기반으로 만들어져 있다.'"
      ]
     },
     "execution_count": 78,
     "metadata": {},
     "output_type": "execute_result"
    }
   ],
   "source": [
    "wiki_qg_df['context'][3]"
   ]
  },
  {
   "cell_type": "code",
   "execution_count": 234,
   "metadata": {},
   "outputs": [
    {
     "data": {
      "text/plain": [
       "31738"
      ]
     },
     "execution_count": 234,
     "metadata": {},
     "output_type": "execute_result"
    }
   ],
   "source": [
    "len(wiki_qg_df)"
   ]
  },
  {
   "cell_type": "code",
   "execution_count": 1,
   "metadata": {},
   "outputs": [],
   "source": [
    "import pandas as pd\n",
    "wiki = pd.read_csv('/opt/ml/wiki_arg_post_processing.csv')"
   ]
  },
  {
   "cell_type": "code",
   "execution_count": 3,
   "metadata": {},
   "outputs": [
    {
     "data": {
      "text/plain": [
       "6"
      ]
     },
     "execution_count": 3,
     "metadata": {},
     "output_type": "execute_result"
    }
   ],
   "source": [
    "wiki['context'][0].index(wiki['answer'][0])"
   ]
  },
  {
   "cell_type": "code",
   "execution_count": 2,
   "metadata": {},
   "outputs": [
    {
     "data": {
      "text/html": [
       "<div>\n",
       "<style scoped>\n",
       "    .dataframe tbody tr th:only-of-type {\n",
       "        vertical-align: middle;\n",
       "    }\n",
       "\n",
       "    .dataframe tbody tr th {\n",
       "        vertical-align: top;\n",
       "    }\n",
       "\n",
       "    .dataframe thead th {\n",
       "        text-align: right;\n",
       "    }\n",
       "</style>\n",
       "<table border=\"1\" class=\"dataframe\">\n",
       "  <thead>\n",
       "    <tr style=\"text-align: right;\">\n",
       "      <th></th>\n",
       "      <th>answer</th>\n",
       "      <th>question</th>\n",
       "      <th>context</th>\n",
       "      <th>doc_id</th>\n",
       "    </tr>\n",
       "  </thead>\n",
       "  <tbody>\n",
       "    <tr>\n",
       "      <th>0</th>\n",
       "      <td>나라 목록</td>\n",
       "      <td>세계 각 지역의 현황과 주권 승인 정보를 기재하는 문서의 이름은?</td>\n",
       "      <td>이 문서는 나라 목록이며, 전 세계 206개 나라의 각 현황과 주권 승인 정보를 개...</td>\n",
       "      <td>0</td>\n",
       "    </tr>\n",
       "    <tr>\n",
       "      <th>1</th>\n",
       "      <td>백남준</td>\n",
       "      <td>\"큰대문집\"에서 18세까지 살고, 졸업과 함께 독일로 유학을 떠나 뮌헨 대학교 및 ...</td>\n",
       "      <td>현 서울특별시 종로구 서린동 (구 일제 강점기 경기도 경성부 서린정) 출신이다. 친...</td>\n",
       "      <td>2</td>\n",
       "    </tr>\n",
       "    <tr>\n",
       "      <th>2</th>\n",
       "      <td>아오조라 문고</td>\n",
       "      <td>일본어판 구텐베르크 프로젝트로 불리는 일본의 인터넷 전자도서관 이름은?</td>\n",
       "      <td>아오조라 문고(靑空文庫, あおぞらぶんこ|아오조라 분고)는 ‘일본어판 구텐베르크 프로...</td>\n",
       "      <td>3</td>\n",
       "    </tr>\n",
       "    <tr>\n",
       "      <th>3</th>\n",
       "      <td>데니스 리치</td>\n",
       "      <td>애플 컴퓨터는 누구의 업적을 기반으로 하고 있어?</td>\n",
       "      <td>켄 톰슨(Ken Thompson) 등과 함께 최초의 유닉스(Unix) 시스템을 개발...</td>\n",
       "      <td>8</td>\n",
       "    </tr>\n",
       "    <tr>\n",
       "      <th>4</th>\n",
       "      <td>주기율표</td>\n",
       "      <td>원소를 구분하기 쉽게 성질에 따라 배열한 표가 뭐야?</td>\n",
       "      <td>주기율표(週期律表, 주기률표, periodic table) 또는 주기표(週期表)는 ...</td>\n",
       "      <td>9</td>\n",
       "    </tr>\n",
       "    <tr>\n",
       "      <th>...</th>\n",
       "      <td>...</td>\n",
       "      <td>...</td>\n",
       "      <td>...</td>\n",
       "      <td>...</td>\n",
       "    </tr>\n",
       "    <tr>\n",
       "      <th>16525</th>\n",
       "      <td>타바투이호</td>\n",
       "      <td>네이바가 어느 호수에서 태어났어?</td>\n",
       "      <td>타바투이호의 형성과 관련하여 전해지는 전설이 있다.\\n\\n예전에 이 지역에는 아름답...</td>\n",
       "      <td>60594</td>\n",
       "    </tr>\n",
       "    <tr>\n",
       "      <th>16526</th>\n",
       "      <td>2022년 FIFA 월드컵 유럽 지역 예선 플레이오프</td>\n",
       "      <td>결승전에서 승리한 3개 팀은 언제 본선 진출이 가능한가?</td>\n",
       "      <td>2022년 FIFA 월드컵 유럽 지역 예선 플레이오프 진행 방식은 2019년 12월...</td>\n",
       "      <td>60597</td>\n",
       "    </tr>\n",
       "    <tr>\n",
       "      <th>16527</th>\n",
       "      <td>자주국방론</td>\n",
       "      <td>박정희 정부가 분쟁의 책임을 당사국에 국한시킨 주장이 뭐야?</td>\n",
       "      <td>박정희 정부가 자주국방론을 내놓은 배경은 \"아시아의 공산주의 국가와 자유진영 국가의...</td>\n",
       "      <td>60598</td>\n",
       "    </tr>\n",
       "    <tr>\n",
       "      <th>16528</th>\n",
       "      <td>오키나와 현립 박물관·미술관</td>\n",
       "      <td>오키나와에 있는 최초의 복합 문화시설은?</td>\n",
       "      <td>오키나와 현립 박물관·미술관( , Okinawa Prefectural Museum ...</td>\n",
       "      <td>60608</td>\n",
       "    </tr>\n",
       "    <tr>\n",
       "      <th>16529</th>\n",
       "      <td>단결권 및 단체교섭권 협약</td>\n",
       "      <td>국제 노동 기구의 8대 핵심 협약 중 하나가 뭐야?</td>\n",
       "      <td>단결권 및 단체교섭권 협약(Right to Organise and Collectiv...</td>\n",
       "      <td>60611</td>\n",
       "    </tr>\n",
       "  </tbody>\n",
       "</table>\n",
       "<p>16530 rows × 4 columns</p>\n",
       "</div>"
      ],
      "text/plain": [
       "                              answer  \\\n",
       "0                              나라 목록   \n",
       "1                                백남준   \n",
       "2                            아오조라 문고   \n",
       "3                             데니스 리치   \n",
       "4                               주기율표   \n",
       "...                              ...   \n",
       "16525                          타바투이호   \n",
       "16526  2022년 FIFA 월드컵 유럽 지역 예선 플레이오프   \n",
       "16527                          자주국방론   \n",
       "16528                오키나와 현립 박물관·미술관   \n",
       "16529                 단결권 및 단체교섭권 협약   \n",
       "\n",
       "                                                question  \\\n",
       "0                   세계 각 지역의 현황과 주권 승인 정보를 기재하는 문서의 이름은?   \n",
       "1      \"큰대문집\"에서 18세까지 살고, 졸업과 함께 독일로 유학을 떠나 뮌헨 대학교 및 ...   \n",
       "2                일본어판 구텐베르크 프로젝트로 불리는 일본의 인터넷 전자도서관 이름은?   \n",
       "3                            애플 컴퓨터는 누구의 업적을 기반으로 하고 있어?   \n",
       "4                          원소를 구분하기 쉽게 성질에 따라 배열한 표가 뭐야?   \n",
       "...                                                  ...   \n",
       "16525                                 네이바가 어느 호수에서 태어났어?   \n",
       "16526                    결승전에서 승리한 3개 팀은 언제 본선 진출이 가능한가?   \n",
       "16527                  박정희 정부가 분쟁의 책임을 당사국에 국한시킨 주장이 뭐야?   \n",
       "16528                             오키나와에 있는 최초의 복합 문화시설은?   \n",
       "16529                       국제 노동 기구의 8대 핵심 협약 중 하나가 뭐야?   \n",
       "\n",
       "                                                 context  doc_id  \n",
       "0      이 문서는 나라 목록이며, 전 세계 206개 나라의 각 현황과 주권 승인 정보를 개...       0  \n",
       "1      현 서울특별시 종로구 서린동 (구 일제 강점기 경기도 경성부 서린정) 출신이다. 친...       2  \n",
       "2      아오조라 문고(靑空文庫, あおぞらぶんこ|아오조라 분고)는 ‘일본어판 구텐베르크 프로...       3  \n",
       "3      켄 톰슨(Ken Thompson) 등과 함께 최초의 유닉스(Unix) 시스템을 개발...       8  \n",
       "4      주기율표(週期律表, 주기률표, periodic table) 또는 주기표(週期表)는 ...       9  \n",
       "...                                                  ...     ...  \n",
       "16525  타바투이호의 형성과 관련하여 전해지는 전설이 있다.\\n\\n예전에 이 지역에는 아름답...   60594  \n",
       "16526  2022년 FIFA 월드컵 유럽 지역 예선 플레이오프 진행 방식은 2019년 12월...   60597  \n",
       "16527  박정희 정부가 자주국방론을 내놓은 배경은 \"아시아의 공산주의 국가와 자유진영 국가의...   60598  \n",
       "16528  오키나와 현립 박물관·미술관( , Okinawa Prefectural Museum ...   60608  \n",
       "16529  단결권 및 단체교섭권 협약(Right to Organise and Collectiv...   60611  \n",
       "\n",
       "[16530 rows x 4 columns]"
      ]
     },
     "execution_count": 2,
     "metadata": {},
     "output_type": "execute_result"
    }
   ],
   "source": [
    "wiki"
   ]
  },
  {
   "cell_type": "code",
   "execution_count": 19,
   "metadata": {},
   "outputs": [],
   "source": [
    "a = [1]*len(wiki)\n",
    "b = ['b']*len(wiki)"
   ]
  },
  {
   "cell_type": "code",
   "execution_count": 25,
   "metadata": {},
   "outputs": [],
   "source": [
    "answers = []\n",
    "context = []\n",
    "question = []\n",
    "\n",
    "for i in range(len(wiki)):\n",
    "    context.append(wiki['context'][i])\n",
    "    answers.append({'answer_start':[wiki['context'][i].index(wiki['answer'][i])], 'text':[wiki['answer'][i]]})\n",
    "    question.append(wiki['question'][i])\n",
    "wiki_qg_df = pd.DataFrame(data={'__index_level_0__':a, 'answers':answers,'context':context,'document_id':a, 'id':b, 'question':question,'title':b})"
   ]
  },
  {
   "cell_type": "code",
   "execution_count": 29,
   "metadata": {},
   "outputs": [],
   "source": [
    "wiki_qg_df.to_json('qg_train.json', orient='columns')"
   ]
  },
  {
   "cell_type": "code",
   "execution_count": 24,
   "metadata": {},
   "outputs": [
    {
     "data": {
      "text/html": [
       "<div>\n",
       "<style scoped>\n",
       "    .dataframe tbody tr th:only-of-type {\n",
       "        vertical-align: middle;\n",
       "    }\n",
       "\n",
       "    .dataframe tbody tr th {\n",
       "        vertical-align: top;\n",
       "    }\n",
       "\n",
       "    .dataframe thead th {\n",
       "        text-align: right;\n",
       "    }\n",
       "</style>\n",
       "<table border=\"1\" class=\"dataframe\">\n",
       "  <thead>\n",
       "    <tr style=\"text-align: right;\">\n",
       "      <th></th>\n",
       "      <th>__index_level_0__</th>\n",
       "      <th>answer</th>\n",
       "      <th>context</th>\n",
       "      <th>document_id</th>\n",
       "      <th>id</th>\n",
       "      <th>question</th>\n",
       "      <th>title</th>\n",
       "    </tr>\n",
       "  </thead>\n",
       "  <tbody>\n",
       "    <tr>\n",
       "      <th>0</th>\n",
       "      <td>1</td>\n",
       "      <td>{'answer_start': [6], 'text': ['나라 목록']}</td>\n",
       "      <td>이 문서는 나라 목록이며, 전 세계 206개 나라의 각 현황과 주권 승인 정보를 개...</td>\n",
       "      <td>1</td>\n",
       "      <td>b</td>\n",
       "      <td>세계 각 지역의 현황과 주권 승인 정보를 기재하는 문서의 이름은?</td>\n",
       "      <td>b</td>\n",
       "    </tr>\n",
       "    <tr>\n",
       "      <th>1</th>\n",
       "      <td>1</td>\n",
       "      <td>{'answer_start': [433], 'text': ['백남준']}</td>\n",
       "      <td>현 서울특별시 종로구 서린동 (구 일제 강점기 경기도 경성부 서린정) 출신이다. 친...</td>\n",
       "      <td>1</td>\n",
       "      <td>b</td>\n",
       "      <td>\"큰대문집\"에서 18세까지 살고, 졸업과 함께 독일로 유학을 떠나 뮌헨 대학교 및 ...</td>\n",
       "      <td>b</td>\n",
       "    </tr>\n",
       "    <tr>\n",
       "      <th>2</th>\n",
       "      <td>1</td>\n",
       "      <td>{'answer_start': [0], 'text': ['아오조라 문고']}</td>\n",
       "      <td>아오조라 문고(靑空文庫, あおぞらぶんこ|아오조라 분고)는 ‘일본어판 구텐베르크 프로...</td>\n",
       "      <td>1</td>\n",
       "      <td>b</td>\n",
       "      <td>일본어판 구텐베르크 프로젝트로 불리는 일본의 인터넷 전자도서관 이름은?</td>\n",
       "      <td>b</td>\n",
       "    </tr>\n",
       "    <tr>\n",
       "      <th>3</th>\n",
       "      <td>1</td>\n",
       "      <td>{'answer_start': [429], 'text': ['데니스 리치']}</td>\n",
       "      <td>켄 톰슨(Ken Thompson) 등과 함께 최초의 유닉스(Unix) 시스템을 개발...</td>\n",
       "      <td>1</td>\n",
       "      <td>b</td>\n",
       "      <td>애플 컴퓨터는 누구의 업적을 기반으로 하고 있어?</td>\n",
       "      <td>b</td>\n",
       "    </tr>\n",
       "    <tr>\n",
       "      <th>4</th>\n",
       "      <td>1</td>\n",
       "      <td>{'answer_start': [0], 'text': ['주기율표']}</td>\n",
       "      <td>주기율표(週期律表, 주기률표, periodic table) 또는 주기표(週期表)는 ...</td>\n",
       "      <td>1</td>\n",
       "      <td>b</td>\n",
       "      <td>원소를 구분하기 쉽게 성질에 따라 배열한 표가 뭐야?</td>\n",
       "      <td>b</td>\n",
       "    </tr>\n",
       "    <tr>\n",
       "      <th>...</th>\n",
       "      <td>...</td>\n",
       "      <td>...</td>\n",
       "      <td>...</td>\n",
       "      <td>...</td>\n",
       "      <td>...</td>\n",
       "      <td>...</td>\n",
       "      <td>...</td>\n",
       "    </tr>\n",
       "    <tr>\n",
       "      <th>16525</th>\n",
       "      <td>1</td>\n",
       "      <td>{'answer_start': [0], 'text': ['타바투이호']}</td>\n",
       "      <td>타바투이호의 형성과 관련하여 전해지는 전설이 있다.\\n\\n예전에 이 지역에는 아름답...</td>\n",
       "      <td>1</td>\n",
       "      <td>b</td>\n",
       "      <td>네이바가 어느 호수에서 태어났어?</td>\n",
       "      <td>b</td>\n",
       "    </tr>\n",
       "    <tr>\n",
       "      <th>16526</th>\n",
       "      <td>1</td>\n",
       "      <td>{'answer_start': [0], 'text': ['2022년 FIFA 월드컵...</td>\n",
       "      <td>2022년 FIFA 월드컵 유럽 지역 예선 플레이오프 진행 방식은 2019년 12월...</td>\n",
       "      <td>1</td>\n",
       "      <td>b</td>\n",
       "      <td>결승전에서 승리한 3개 팀은 언제 본선 진출이 가능한가?</td>\n",
       "      <td>b</td>\n",
       "    </tr>\n",
       "    <tr>\n",
       "      <th>16527</th>\n",
       "      <td>1</td>\n",
       "      <td>{'answer_start': [8], 'text': ['자주국방론']}</td>\n",
       "      <td>박정희 정부가 자주국방론을 내놓은 배경은 \"아시아의 공산주의 국가와 자유진영 국가의...</td>\n",
       "      <td>1</td>\n",
       "      <td>b</td>\n",
       "      <td>박정희 정부가 분쟁의 책임을 당사국에 국한시킨 주장이 뭐야?</td>\n",
       "      <td>b</td>\n",
       "    </tr>\n",
       "    <tr>\n",
       "      <th>16528</th>\n",
       "      <td>1</td>\n",
       "      <td>{'answer_start': [0], 'text': ['오키나와 현립 박물관·미술...</td>\n",
       "      <td>오키나와 현립 박물관·미술관( , Okinawa Prefectural Museum ...</td>\n",
       "      <td>1</td>\n",
       "      <td>b</td>\n",
       "      <td>오키나와에 있는 최초의 복합 문화시설은?</td>\n",
       "      <td>b</td>\n",
       "    </tr>\n",
       "    <tr>\n",
       "      <th>16529</th>\n",
       "      <td>1</td>\n",
       "      <td>{'answer_start': [0], 'text': ['단결권 및 단체교섭권 협약']}</td>\n",
       "      <td>단결권 및 단체교섭권 협약(Right to Organise and Collectiv...</td>\n",
       "      <td>1</td>\n",
       "      <td>b</td>\n",
       "      <td>국제 노동 기구의 8대 핵심 협약 중 하나가 뭐야?</td>\n",
       "      <td>b</td>\n",
       "    </tr>\n",
       "  </tbody>\n",
       "</table>\n",
       "<p>16530 rows × 7 columns</p>\n",
       "</div>"
      ],
      "text/plain": [
       "       __index_level_0__                                             answer  \\\n",
       "0                      1           {'answer_start': [6], 'text': ['나라 목록']}   \n",
       "1                      1           {'answer_start': [433], 'text': ['백남준']}   \n",
       "2                      1         {'answer_start': [0], 'text': ['아오조라 문고']}   \n",
       "3                      1        {'answer_start': [429], 'text': ['데니스 리치']}   \n",
       "4                      1            {'answer_start': [0], 'text': ['주기율표']}   \n",
       "...                  ...                                                ...   \n",
       "16525                  1           {'answer_start': [0], 'text': ['타바투이호']}   \n",
       "16526                  1  {'answer_start': [0], 'text': ['2022년 FIFA 월드컵...   \n",
       "16527                  1           {'answer_start': [8], 'text': ['자주국방론']}   \n",
       "16528                  1  {'answer_start': [0], 'text': ['오키나와 현립 박물관·미술...   \n",
       "16529                  1  {'answer_start': [0], 'text': ['단결권 및 단체교섭권 협약']}   \n",
       "\n",
       "                                                 context  document_id id  \\\n",
       "0      이 문서는 나라 목록이며, 전 세계 206개 나라의 각 현황과 주권 승인 정보를 개...            1  b   \n",
       "1      현 서울특별시 종로구 서린동 (구 일제 강점기 경기도 경성부 서린정) 출신이다. 친...            1  b   \n",
       "2      아오조라 문고(靑空文庫, あおぞらぶんこ|아오조라 분고)는 ‘일본어판 구텐베르크 프로...            1  b   \n",
       "3      켄 톰슨(Ken Thompson) 등과 함께 최초의 유닉스(Unix) 시스템을 개발...            1  b   \n",
       "4      주기율표(週期律表, 주기률표, periodic table) 또는 주기표(週期表)는 ...            1  b   \n",
       "...                                                  ...          ... ..   \n",
       "16525  타바투이호의 형성과 관련하여 전해지는 전설이 있다.\\n\\n예전에 이 지역에는 아름답...            1  b   \n",
       "16526  2022년 FIFA 월드컵 유럽 지역 예선 플레이오프 진행 방식은 2019년 12월...            1  b   \n",
       "16527  박정희 정부가 자주국방론을 내놓은 배경은 \"아시아의 공산주의 국가와 자유진영 국가의...            1  b   \n",
       "16528  오키나와 현립 박물관·미술관( , Okinawa Prefectural Museum ...            1  b   \n",
       "16529  단결권 및 단체교섭권 협약(Right to Organise and Collectiv...            1  b   \n",
       "\n",
       "                                                question title  \n",
       "0                   세계 각 지역의 현황과 주권 승인 정보를 기재하는 문서의 이름은?     b  \n",
       "1      \"큰대문집\"에서 18세까지 살고, 졸업과 함께 독일로 유학을 떠나 뮌헨 대학교 및 ...     b  \n",
       "2                일본어판 구텐베르크 프로젝트로 불리는 일본의 인터넷 전자도서관 이름은?     b  \n",
       "3                            애플 컴퓨터는 누구의 업적을 기반으로 하고 있어?     b  \n",
       "4                          원소를 구분하기 쉽게 성질에 따라 배열한 표가 뭐야?     b  \n",
       "...                                                  ...   ...  \n",
       "16525                                 네이바가 어느 호수에서 태어났어?     b  \n",
       "16526                    결승전에서 승리한 3개 팀은 언제 본선 진출이 가능한가?     b  \n",
       "16527                  박정희 정부가 분쟁의 책임을 당사국에 국한시킨 주장이 뭐야?     b  \n",
       "16528                             오키나와에 있는 최초의 복합 문화시설은?     b  \n",
       "16529                       국제 노동 기구의 8대 핵심 협약 중 하나가 뭐야?     b  \n",
       "\n",
       "[16530 rows x 7 columns]"
      ]
     },
     "execution_count": 24,
     "metadata": {},
     "output_type": "execute_result"
    }
   ],
   "source": [
    "wiki_qg_df"
   ]
  },
  {
   "cell_type": "code",
   "execution_count": null,
   "metadata": {},
   "outputs": [],
   "source": [
    "csv_dataset = load_dataset('dataframe', data_files='/opt/ml/qg_train.csv')"
   ]
  }
 ],
 "metadata": {
  "interpreter": {
   "hash": "d4d1e4263499bec80672ea0156c357c1ee493ec2b1c70f0acce89fc37c4a6abe"
  },
  "kernelspec": {
   "display_name": "Python 3.8.8 64-bit ('base': conda)",
   "name": "python3"
  },
  "language_info": {
   "codemirror_mode": {
    "name": "ipython",
    "version": 3
   },
   "file_extension": ".py",
   "mimetype": "text/x-python",
   "name": "python",
   "nbconvert_exporter": "python",
   "pygments_lexer": "ipython3",
   "version": "3.8.8"
  },
  "orig_nbformat": 4
 },
 "nbformat": 4,
 "nbformat_minor": 2
}
